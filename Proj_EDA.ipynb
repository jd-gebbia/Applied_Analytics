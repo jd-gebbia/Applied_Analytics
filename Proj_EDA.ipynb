{
  "nbformat": 4,
  "nbformat_minor": 0,
  "metadata": {
    "colab": {
      "name": "EDA.ipynb",
      "provenance": [],
      "collapsed_sections": []
    },
    "kernelspec": {
      "name": "python3",
      "display_name": "Python 3"
    }
  },
  "cells": [
    {
      "cell_type": "code",
      "metadata": {
        "colab": {
          "base_uri": "https://localhost:8080/"
        },
        "id": "cwGYrjXnWES8",
        "outputId": "5b9d9310-8e7f-4b5a-b729-bfde2033748b"
      },
      "source": [
        "#Reading the files\r\n",
        "\r\n",
        "import pandas as pd\r\n",
        "import numpy as np\r\n",
        "df = pd.read_json('amazonecho_redditPosts.json')\r\n",
        "df = df.fillna(np.nan)\r\n",
        "print(df.head())\r\n"
      ],
      "execution_count": 49,
      "outputs": [
        {
          "output_type": "stream",
          "text": [
            "  all_awardings  associated_award  ... distinguished edited\n",
            "0            []               NaN  ...           NaN    NaN\n",
            "1            []               NaN  ...           NaN    NaN\n",
            "2            []               NaN  ...           NaN    NaN\n",
            "3            []               NaN  ...           NaN    NaN\n",
            "4            []               NaN  ...           NaN    NaN\n",
            "\n",
            "[5 rows x 39 columns]\n"
          ],
          "name": "stdout"
        }
      ]
    },
    {
      "cell_type": "code",
      "metadata": {
        "colab": {
          "base_uri": "https://localhost:8080/"
        },
        "id": "y4qzcFVBxiWF",
        "outputId": "6890ec22-c0c8-4dea-fc81-884b5b4aeadd"
      },
      "source": [
        "len(df[df['associated_award'].isna() ])\r\n",
        "\r\n",
        "# df['associated_award'].head(20)"
      ],
      "execution_count": 50,
      "outputs": [
        {
          "output_type": "execute_result",
          "data": {
            "text/plain": [
              "38977"
            ]
          },
          "metadata": {
            "tags": []
          },
          "execution_count": 50
        }
      ]
    },
    {
      "cell_type": "code",
      "metadata": {
        "colab": {
          "base_uri": "https://localhost:8080/"
        },
        "id": "Gi1LJe8OnpVL",
        "outputId": "0a0f7ece-e752-4ce3-94a1-14bb8d5531f4"
      },
      "source": [
        "df.columns\r\n",
        "print(df['body'].unique())\r\n",
        "print(df['subreddit'].unique())\r\n",
        "print(df['comment_type'].unique())\r\n",
        "\r\n",
        "\r\n",
        "for column in df.columns:\r\n",
        "  print(column, 100*round(len(df[df[column].isna() ]) / len(df[column]),2) )\r\n"
      ],
      "execution_count": 52,
      "outputs": [
        {
          "output_type": "stream",
          "text": [
            "['Does the mechanism make a noise when it moves or is it silent? It would be a deal breaker if it made grinding and whirring noises all day.'\n",
            " 'Where do you find that detail?' 'Are they reduced in Australia too?' ...\n",
            " 'When you zoom in to make the clock large, does it stay zoomed or does it \"unzoom\" if you do anything like touch the screen or talk to Alexa?'\n",
            " \"Ahhhh.. thank you, looks like that's the issue then.\\nHad an email from echo support and they want to speak to me about it, so I'll phone/chat them this afternoon.\"\n",
            " \"Still no luck. I contacted Amazon and they said the feature isn't available.\"]\n",
            "['amazonecho']\n",
            "[nan]\n",
            "all_awardings 0.0\n",
            "associated_award 100.0\n",
            "author 0.0\n",
            "author_flair_background_color 98.0\n",
            "author_flair_css_class 100.0\n",
            "author_flair_richtext 2.0\n",
            "author_flair_template_id 100.0\n",
            "author_flair_text 100.0\n",
            "author_flair_text_color 98.0\n",
            "author_flair_type 2.0\n",
            "author_fullname 2.0\n",
            "author_patreon_flair 2.0\n",
            "author_premium 2.0\n",
            "awarders 0.0\n",
            "body 0.0\n",
            "collapsed_because_crowd_control 100.0\n",
            "comment_type 100.0\n",
            "created_utc 0.0\n",
            "gildings 0.0\n",
            "id 0.0\n",
            "is_submitter 0.0\n",
            "link_id 0.0\n",
            "locked 0.0\n",
            "no_follow 0.0\n",
            "parent_id 0.0\n",
            "permalink 0.0\n",
            "retrieved_on 0.0\n",
            "score 0.0\n",
            "send_replies 0.0\n",
            "stickied 0.0\n",
            "subreddit 0.0\n",
            "subreddit_id 0.0\n",
            "top_awarded_type 100.0\n",
            "total_awards_received 0.0\n",
            "treatment_tags 10.0\n",
            "created 0.0\n",
            "author_cakeday 100.0\n",
            "distinguished 100.0\n",
            "edited 99.0\n"
          ],
          "name": "stdout"
        }
      ]
    },
    {
      "cell_type": "code",
      "metadata": {
        "colab": {
          "base_uri": "https://localhost:8080/"
        },
        "id": "v7zkbftdlLs_",
        "outputId": "b98b1fbe-1c39-4ece-bdc5-117e8f27c81a"
      },
      "source": [
        "df = pd.read_json('googlehome_redditPosts.json')\r\n",
        "print(df.head())\r\n"
      ],
      "execution_count": 16,
      "outputs": [
        {
          "output_type": "stream",
          "text": [
            "  all_awardings associated_award  ... distinguished edited\n",
            "0            []             None  ...          None    NaN\n",
            "1            []             None  ...          None    NaN\n",
            "2            []             None  ...          None    NaN\n",
            "3            []             None  ...          None    NaN\n",
            "4            []             None  ...          None    NaN\n",
            "\n",
            "[5 rows x 39 columns]\n",
            "      all_awardings associated_award  ... distinguished edited\n",
            "0                []             None  ...          None    NaN\n",
            "1                []             None  ...          None    NaN\n",
            "2                []             None  ...          None    NaN\n",
            "3                []             None  ...          None    NaN\n",
            "4                []             None  ...          None    NaN\n",
            "...             ...              ...  ...           ...    ...\n",
            "99096            []             None  ...          None    NaN\n",
            "99097            []             None  ...          None    NaN\n",
            "99098            []             None  ...          None    NaN\n",
            "99099            []             None  ...          None    NaN\n",
            "99100            []             None  ...          None    NaN\n",
            "\n",
            "[99101 rows x 39 columns]\n"
          ],
          "name": "stdout"
        }
      ]
    },
    {
      "cell_type": "code",
      "metadata": {
        "colab": {
          "base_uri": "https://localhost:8080/"
        },
        "id": "Cw_0UmH5oPdv",
        "outputId": "d996b179-f595-41a8-a6b9-0d16feef97c2"
      },
      "source": [
        "df.columns"
      ],
      "execution_count": 23,
      "outputs": [
        {
          "output_type": "execute_result",
          "data": {
            "text/plain": [
              "Index(['all_awardings', 'associated_award', 'author',\n",
              "       'author_flair_background_color', 'author_flair_css_class',\n",
              "       'author_flair_richtext', 'author_flair_template_id',\n",
              "       'author_flair_text', 'author_flair_text_color', 'author_flair_type',\n",
              "       'author_fullname', 'author_patreon_flair', 'author_premium', 'awarders',\n",
              "       'body', 'collapsed_because_crowd_control', 'comment_type',\n",
              "       'created_utc', 'gildings', 'id', 'is_submitter', 'link_id', 'locked',\n",
              "       'no_follow', 'parent_id', 'permalink', 'retrieved_on', 'score',\n",
              "       'send_replies', 'stickied', 'subreddit', 'subreddit_id',\n",
              "       'top_awarded_type', 'total_awards_received', 'treatment_tags',\n",
              "       'created', 'author_cakeday', 'distinguished', 'edited'],\n",
              "      dtype='object')"
            ]
          },
          "metadata": {
            "tags": []
          },
          "execution_count": 23
        }
      ]
    },
    {
      "cell_type": "code",
      "metadata": {
        "id": "0LBpXOUJlLxd"
      },
      "source": [
        ""
      ],
      "execution_count": null,
      "outputs": []
    }
  ]
}