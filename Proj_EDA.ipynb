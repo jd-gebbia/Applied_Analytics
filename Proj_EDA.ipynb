{
  "nbformat": 4,
  "nbformat_minor": 0,
  "metadata": {
    "colab": {
      "name": "EDA.ipynb",
      "provenance": [],
      "collapsed_sections": []
    },
    "kernelspec": {
      "name": "python3",
      "display_name": "Python 3"
    }
  },
  "cells": [
    {
      "cell_type": "code",
      "metadata": {
        "colab": {
          "base_uri": "https://localhost:8080/",
          "height": 427
        },
        "id": "cwGYrjXnWES8",
        "outputId": "da9f303f-d2a5-4589-d6cc-f999320bae8f"
      },
      "source": [
        "#Reading the files\r\n",
        "\r\n",
        "import pandas as pd\r\n",
        "import numpy as np\r\n",
        "df = pd.read_json('amazonecho_redditPosts.json')\r\n",
        "df = df.fillna(np.nan)\r\n",
        "print(df.head())\r\n",
        "df.describe()"
      ],
      "execution_count": 61,
      "outputs": [
        {
          "output_type": "stream",
          "text": [
            "  all_awardings  associated_award  ... distinguished edited\n",
            "0            []               NaN  ...           NaN    NaN\n",
            "1            []               NaN  ...           NaN    NaN\n",
            "2            []               NaN  ...           NaN    NaN\n",
            "3            []               NaN  ...           NaN    NaN\n",
            "4            []               NaN  ...           NaN    NaN\n",
            "\n",
            "[5 rows x 39 columns]\n"
          ],
          "name": "stdout"
        },
        {
          "output_type": "execute_result",
          "data": {
            "text/html": [
              "<div>\n",
              "<style scoped>\n",
              "    .dataframe tbody tr th:only-of-type {\n",
              "        vertical-align: middle;\n",
              "    }\n",
              "\n",
              "    .dataframe tbody tr th {\n",
              "        vertical-align: top;\n",
              "    }\n",
              "\n",
              "    .dataframe thead th {\n",
              "        text-align: right;\n",
              "    }\n",
              "</style>\n",
              "<table border=\"1\" class=\"dataframe\">\n",
              "  <thead>\n",
              "    <tr style=\"text-align: right;\">\n",
              "      <th></th>\n",
              "      <th>associated_award</th>\n",
              "      <th>author_flair_template_id</th>\n",
              "      <th>author_patreon_flair</th>\n",
              "      <th>author_premium</th>\n",
              "      <th>collapsed_because_crowd_control</th>\n",
              "      <th>comment_type</th>\n",
              "      <th>created_utc</th>\n",
              "      <th>retrieved_on</th>\n",
              "      <th>score</th>\n",
              "      <th>top_awarded_type</th>\n",
              "      <th>total_awards_received</th>\n",
              "      <th>created</th>\n",
              "      <th>author_cakeday</th>\n",
              "      <th>edited</th>\n",
              "    </tr>\n",
              "  </thead>\n",
              "  <tbody>\n",
              "    <tr>\n",
              "      <th>count</th>\n",
              "      <td>0.0</td>\n",
              "      <td>0.0</td>\n",
              "      <td>38349.0</td>\n",
              "      <td>38349.000000</td>\n",
              "      <td>0.0</td>\n",
              "      <td>0.0</td>\n",
              "      <td>3.897700e+04</td>\n",
              "      <td>3.897700e+04</td>\n",
              "      <td>38977.000000</td>\n",
              "      <td>0.0</td>\n",
              "      <td>38977.000000</td>\n",
              "      <td>3.897700e+04</td>\n",
              "      <td>121.0</td>\n",
              "      <td>3.130000e+02</td>\n",
              "    </tr>\n",
              "    <tr>\n",
              "      <th>mean</th>\n",
              "      <td>NaN</td>\n",
              "      <td>NaN</td>\n",
              "      <td>0.0</td>\n",
              "      <td>0.067851</td>\n",
              "      <td>NaN</td>\n",
              "      <td>NaN</td>\n",
              "      <td>1.598834e+09</td>\n",
              "      <td>1.598850e+09</td>\n",
              "      <td>1.437053</td>\n",
              "      <td>NaN</td>\n",
              "      <td>0.000590</td>\n",
              "      <td>1.598852e+09</td>\n",
              "      <td>1.0</td>\n",
              "      <td>1.595148e+09</td>\n",
              "    </tr>\n",
              "    <tr>\n",
              "      <th>std</th>\n",
              "      <td>NaN</td>\n",
              "      <td>NaN</td>\n",
              "      <td>0.0</td>\n",
              "      <td>0.251493</td>\n",
              "      <td>NaN</td>\n",
              "      <td>NaN</td>\n",
              "      <td>9.088659e+06</td>\n",
              "      <td>9.101752e+06</td>\n",
              "      <td>2.731473</td>\n",
              "      <td>NaN</td>\n",
              "      <td>0.025319</td>\n",
              "      <td>9.088659e+06</td>\n",
              "      <td>0.0</td>\n",
              "      <td>6.172244e+06</td>\n",
              "    </tr>\n",
              "    <tr>\n",
              "      <th>min</th>\n",
              "      <td>NaN</td>\n",
              "      <td>NaN</td>\n",
              "      <td>0.0</td>\n",
              "      <td>0.000000</td>\n",
              "      <td>NaN</td>\n",
              "      <td>NaN</td>\n",
              "      <td>1.582780e+09</td>\n",
              "      <td>1.582782e+09</td>\n",
              "      <td>-39.000000</td>\n",
              "      <td>NaN</td>\n",
              "      <td>0.000000</td>\n",
              "      <td>1.582798e+09</td>\n",
              "      <td>1.0</td>\n",
              "      <td>1.582827e+09</td>\n",
              "    </tr>\n",
              "    <tr>\n",
              "      <th>25%</th>\n",
              "      <td>NaN</td>\n",
              "      <td>NaN</td>\n",
              "      <td>0.0</td>\n",
              "      <td>0.000000</td>\n",
              "      <td>NaN</td>\n",
              "      <td>NaN</td>\n",
              "      <td>1.590440e+09</td>\n",
              "      <td>1.590444e+09</td>\n",
              "      <td>1.000000</td>\n",
              "      <td>NaN</td>\n",
              "      <td>0.000000</td>\n",
              "      <td>1.590458e+09</td>\n",
              "      <td>1.0</td>\n",
              "      <td>1.589822e+09</td>\n",
              "    </tr>\n",
              "    <tr>\n",
              "      <th>50%</th>\n",
              "      <td>NaN</td>\n",
              "      <td>NaN</td>\n",
              "      <td>0.0</td>\n",
              "      <td>0.000000</td>\n",
              "      <td>NaN</td>\n",
              "      <td>NaN</td>\n",
              "      <td>1.599363e+09</td>\n",
              "      <td>1.599363e+09</td>\n",
              "      <td>1.000000</td>\n",
              "      <td>NaN</td>\n",
              "      <td>0.000000</td>\n",
              "      <td>1.599381e+09</td>\n",
              "      <td>1.0</td>\n",
              "      <td>1.595713e+09</td>\n",
              "    </tr>\n",
              "    <tr>\n",
              "      <th>75%</th>\n",
              "      <td>NaN</td>\n",
              "      <td>NaN</td>\n",
              "      <td>0.0</td>\n",
              "      <td>0.000000</td>\n",
              "      <td>NaN</td>\n",
              "      <td>NaN</td>\n",
              "      <td>1.606772e+09</td>\n",
              "      <td>1.606776e+09</td>\n",
              "      <td>1.000000</td>\n",
              "      <td>NaN</td>\n",
              "      <td>0.000000</td>\n",
              "      <td>1.606790e+09</td>\n",
              "      <td>1.0</td>\n",
              "      <td>1.600449e+09</td>\n",
              "    </tr>\n",
              "    <tr>\n",
              "      <th>max</th>\n",
              "      <td>NaN</td>\n",
              "      <td>NaN</td>\n",
              "      <td>0.0</td>\n",
              "      <td>1.000000</td>\n",
              "      <td>NaN</td>\n",
              "      <td>NaN</td>\n",
              "      <td>1.614314e+09</td>\n",
              "      <td>1.614462e+09</td>\n",
              "      <td>181.000000</td>\n",
              "      <td>NaN</td>\n",
              "      <td>2.000000</td>\n",
              "      <td>1.614332e+09</td>\n",
              "      <td>1.0</td>\n",
              "      <td>1.604713e+09</td>\n",
              "    </tr>\n",
              "  </tbody>\n",
              "</table>\n",
              "</div>"
            ],
            "text/plain": [
              "       associated_award  author_flair_template_id  ...  author_cakeday        edited\n",
              "count               0.0                       0.0  ...           121.0  3.130000e+02\n",
              "mean                NaN                       NaN  ...             1.0  1.595148e+09\n",
              "std                 NaN                       NaN  ...             0.0  6.172244e+06\n",
              "min                 NaN                       NaN  ...             1.0  1.582827e+09\n",
              "25%                 NaN                       NaN  ...             1.0  1.589822e+09\n",
              "50%                 NaN                       NaN  ...             1.0  1.595713e+09\n",
              "75%                 NaN                       NaN  ...             1.0  1.600449e+09\n",
              "max                 NaN                       NaN  ...             1.0  1.604713e+09\n",
              "\n",
              "[8 rows x 14 columns]"
            ]
          },
          "metadata": {
            "tags": []
          },
          "execution_count": 61
        }
      ]
    },
    {
      "cell_type": "code",
      "metadata": {
        "colab": {
          "base_uri": "https://localhost:8080/"
        },
        "id": "y4qzcFVBxiWF",
        "outputId": "6890ec22-c0c8-4dea-fc81-884b5b4aeadd"
      },
      "source": [
        "len(df[df['associated_award'].isna() ])\r\n",
        "\r\n",
        "# df['associated_award'].head(20)"
      ],
      "execution_count": 50,
      "outputs": [
        {
          "output_type": "execute_result",
          "data": {
            "text/plain": [
              "38977"
            ]
          },
          "metadata": {
            "tags": []
          },
          "execution_count": 50
        }
      ]
    },
    {
      "cell_type": "code",
      "metadata": {
        "colab": {
          "base_uri": "https://localhost:8080/"
        },
        "id": "Gi1LJe8OnpVL",
        "outputId": "4c81c4c5-a2d1-4076-f0d8-14e85357f631"
      },
      "source": [
        "df.columns\r\n",
        "print(df['body'].unique())\r\n",
        "print(df['subreddit'].unique())\r\n",
        "print(df['comment_type'].unique())\r\n",
        "\r\n",
        "\r\n",
        "trash = 0\r\n",
        "for column in df.columns:\r\n",
        "  print(column, 100*round(len(df[df[column].isna() ]) / len(df[column]),2) )\r\n",
        "  if(100*round(len(df[df[column].isna() ]) / len(df[column]),2) > 95):\r\n",
        "    trash+=1\r\n",
        "\r\n",
        "print(\"trash columns:\", trash, \" out of \", len(df.columns))"
      ],
      "execution_count": 56,
      "outputs": [
        {
          "output_type": "stream",
          "text": [
            "['Does the mechanism make a noise when it moves or is it silent? It would be a deal breaker if it made grinding and whirring noises all day.'\n",
            " 'Where do you find that detail?' 'Are they reduced in Australia too?' ...\n",
            " 'When you zoom in to make the clock large, does it stay zoomed or does it \"unzoom\" if you do anything like touch the screen or talk to Alexa?'\n",
            " \"Ahhhh.. thank you, looks like that's the issue then.\\nHad an email from echo support and they want to speak to me about it, so I'll phone/chat them this afternoon.\"\n",
            " \"Still no luck. I contacted Amazon and they said the feature isn't available.\"]\n",
            "['amazonecho']\n",
            "[nan]\n",
            "all_awardings 0.0\n",
            "associated_award 100.0\n",
            "author 0.0\n",
            "author_flair_background_color 98.0\n",
            "author_flair_css_class 100.0\n",
            "author_flair_richtext 2.0\n",
            "author_flair_template_id 100.0\n",
            "author_flair_text 100.0\n",
            "author_flair_text_color 98.0\n",
            "author_flair_type 2.0\n",
            "author_fullname 2.0\n",
            "author_patreon_flair 2.0\n",
            "author_premium 2.0\n",
            "awarders 0.0\n",
            "body 0.0\n",
            "collapsed_because_crowd_control 100.0\n",
            "comment_type 100.0\n",
            "created_utc 0.0\n",
            "gildings 0.0\n",
            "id 0.0\n",
            "is_submitter 0.0\n",
            "link_id 0.0\n",
            "locked 0.0\n",
            "no_follow 0.0\n",
            "parent_id 0.0\n",
            "permalink 0.0\n",
            "retrieved_on 0.0\n",
            "score 0.0\n",
            "send_replies 0.0\n",
            "stickied 0.0\n",
            "subreddit 0.0\n",
            "subreddit_id 0.0\n",
            "top_awarded_type 100.0\n",
            "total_awards_received 0.0\n",
            "treatment_tags 10.0\n",
            "created 0.0\n",
            "author_cakeday 100.0\n",
            "distinguished 100.0\n",
            "edited 99.0\n",
            "trash columns: 12  out of  39\n"
          ],
          "name": "stdout"
        }
      ]
    },
    {
      "cell_type": "code",
      "metadata": {
        "colab": {
          "base_uri": "https://localhost:8080/"
        },
        "id": "v7zkbftdlLs_",
        "outputId": "b98b1fbe-1c39-4ece-bdc5-117e8f27c81a"
      },
      "source": [
        "df = pd.read_json('googlehome_redditPosts.json')\r\n",
        "print(df.head())\r\n"
      ],
      "execution_count": 16,
      "outputs": [
        {
          "output_type": "stream",
          "text": [
            "  all_awardings associated_award  ... distinguished edited\n",
            "0            []             None  ...          None    NaN\n",
            "1            []             None  ...          None    NaN\n",
            "2            []             None  ...          None    NaN\n",
            "3            []             None  ...          None    NaN\n",
            "4            []             None  ...          None    NaN\n",
            "\n",
            "[5 rows x 39 columns]\n",
            "      all_awardings associated_award  ... distinguished edited\n",
            "0                []             None  ...          None    NaN\n",
            "1                []             None  ...          None    NaN\n",
            "2                []             None  ...          None    NaN\n",
            "3                []             None  ...          None    NaN\n",
            "4                []             None  ...          None    NaN\n",
            "...             ...              ...  ...           ...    ...\n",
            "99096            []             None  ...          None    NaN\n",
            "99097            []             None  ...          None    NaN\n",
            "99098            []             None  ...          None    NaN\n",
            "99099            []             None  ...          None    NaN\n",
            "99100            []             None  ...          None    NaN\n",
            "\n",
            "[99101 rows x 39 columns]\n"
          ],
          "name": "stdout"
        }
      ]
    },
    {
      "cell_type": "code",
      "metadata": {
        "colab": {
          "base_uri": "https://localhost:8080/"
        },
        "id": "Cw_0UmH5oPdv",
        "outputId": "d996b179-f595-41a8-a6b9-0d16feef97c2"
      },
      "source": [
        "df.columns"
      ],
      "execution_count": 23,
      "outputs": [
        {
          "output_type": "execute_result",
          "data": {
            "text/plain": [
              "Index(['all_awardings', 'associated_award', 'author',\n",
              "       'author_flair_background_color', 'author_flair_css_class',\n",
              "       'author_flair_richtext', 'author_flair_template_id',\n",
              "       'author_flair_text', 'author_flair_text_color', 'author_flair_type',\n",
              "       'author_fullname', 'author_patreon_flair', 'author_premium', 'awarders',\n",
              "       'body', 'collapsed_because_crowd_control', 'comment_type',\n",
              "       'created_utc', 'gildings', 'id', 'is_submitter', 'link_id', 'locked',\n",
              "       'no_follow', 'parent_id', 'permalink', 'retrieved_on', 'score',\n",
              "       'send_replies', 'stickied', 'subreddit', 'subreddit_id',\n",
              "       'top_awarded_type', 'total_awards_received', 'treatment_tags',\n",
              "       'created', 'author_cakeday', 'distinguished', 'edited'],\n",
              "      dtype='object')"
            ]
          },
          "metadata": {
            "tags": []
          },
          "execution_count": 23
        }
      ]
    },
    {
      "cell_type": "code",
      "metadata": {
        "colab": {
          "base_uri": "https://localhost:8080/",
          "height": 375
        },
        "id": "0LBpXOUJlLxd",
        "outputId": "f5adb8e9-0e92-4c24-bba5-b9d49d7f4086"
      },
      "source": [
        "import pandas as pd\r\n",
        "import numpy as np\r\n",
        "df = pd.read_csv('AAPL.csv')\r\n",
        "df = df.fillna(np.nan)\r\n",
        "print(df.head())\r\n",
        "df.describe()"
      ],
      "execution_count": 77,
      "outputs": [
        {
          "output_type": "stream",
          "text": [
            "         Date       Open       High        Low      Close  Adj Close     Volume\n",
            "0  2020-02-27  70.275002  71.500000  68.239998  68.379997  67.854019  320605600\n",
            "1  2020-02-28  64.315002  69.602501  64.092499  68.339996  67.814331  426884800\n",
            "2  2020-03-02  70.570000  75.360001  69.430000  74.702499  74.127892  341397200\n",
            "3  2020-03-03  75.917503  76.000000  71.449997  72.330002  71.773636  319475600\n",
            "4  2020-03-04  74.110001  75.849998  73.282501  75.684998  75.102829  219178400\n"
          ],
          "name": "stdout"
        },
        {
          "output_type": "execute_result",
          "data": {
            "text/html": [
              "<div>\n",
              "<style scoped>\n",
              "    .dataframe tbody tr th:only-of-type {\n",
              "        vertical-align: middle;\n",
              "    }\n",
              "\n",
              "    .dataframe tbody tr th {\n",
              "        vertical-align: top;\n",
              "    }\n",
              "\n",
              "    .dataframe thead th {\n",
              "        text-align: right;\n",
              "    }\n",
              "</style>\n",
              "<table border=\"1\" class=\"dataframe\">\n",
              "  <thead>\n",
              "    <tr style=\"text-align: right;\">\n",
              "      <th></th>\n",
              "      <th>Open</th>\n",
              "      <th>High</th>\n",
              "      <th>Low</th>\n",
              "      <th>Close</th>\n",
              "      <th>Adj Close</th>\n",
              "      <th>Volume</th>\n",
              "    </tr>\n",
              "  </thead>\n",
              "  <tbody>\n",
              "    <tr>\n",
              "      <th>count</th>\n",
              "      <td>253.000000</td>\n",
              "      <td>253.000000</td>\n",
              "      <td>253.000000</td>\n",
              "      <td>253.000000</td>\n",
              "      <td>253.000000</td>\n",
              "      <td>2.530000e+02</td>\n",
              "    </tr>\n",
              "    <tr>\n",
              "      <th>mean</th>\n",
              "      <td>103.426967</td>\n",
              "      <td>104.914892</td>\n",
              "      <td>101.862510</td>\n",
              "      <td>103.439664</td>\n",
              "      <td>103.085226</td>\n",
              "      <td>1.530927e+08</td>\n",
              "    </tr>\n",
              "    <tr>\n",
              "      <th>std</th>\n",
              "      <td>24.225053</td>\n",
              "      <td>24.239008</td>\n",
              "      <td>23.793139</td>\n",
              "      <td>23.992684</td>\n",
              "      <td>24.108235</td>\n",
              "      <td>7.140373e+07</td>\n",
              "    </tr>\n",
              "    <tr>\n",
              "      <th>min</th>\n",
              "      <td>57.020000</td>\n",
              "      <td>57.125000</td>\n",
              "      <td>53.152500</td>\n",
              "      <td>56.092499</td>\n",
              "      <td>55.661041</td>\n",
              "      <td>4.669130e+07</td>\n",
              "    </tr>\n",
              "    <tr>\n",
              "      <th>25%</th>\n",
              "      <td>79.665001</td>\n",
              "      <td>80.587502</td>\n",
              "      <td>79.125000</td>\n",
              "      <td>79.722504</td>\n",
              "      <td>79.323433</td>\n",
              "      <td>1.031623e+08</td>\n",
              "    </tr>\n",
              "    <tr>\n",
              "      <th>50%</th>\n",
              "      <td>112.680000</td>\n",
              "      <td>114.412498</td>\n",
              "      <td>110.292503</td>\n",
              "      <td>112.279999</td>\n",
              "      <td>111.919373</td>\n",
              "      <td>1.354452e+08</td>\n",
              "    </tr>\n",
              "    <tr>\n",
              "      <th>75%</th>\n",
              "      <td>122.599998</td>\n",
              "      <td>124.849998</td>\n",
              "      <td>120.550003</td>\n",
              "      <td>122.720001</td>\n",
              "      <td>122.536896</td>\n",
              "      <td>1.822744e+08</td>\n",
              "    </tr>\n",
              "    <tr>\n",
              "      <th>max</th>\n",
              "      <td>143.600006</td>\n",
              "      <td>145.089996</td>\n",
              "      <td>141.369995</td>\n",
              "      <td>143.160004</td>\n",
              "      <td>142.946396</td>\n",
              "      <td>4.268848e+08</td>\n",
              "    </tr>\n",
              "  </tbody>\n",
              "</table>\n",
              "</div>"
            ],
            "text/plain": [
              "             Open        High         Low       Close   Adj Close        Volume\n",
              "count  253.000000  253.000000  253.000000  253.000000  253.000000  2.530000e+02\n",
              "mean   103.426967  104.914892  101.862510  103.439664  103.085226  1.530927e+08\n",
              "std     24.225053   24.239008   23.793139   23.992684   24.108235  7.140373e+07\n",
              "min     57.020000   57.125000   53.152500   56.092499   55.661041  4.669130e+07\n",
              "25%     79.665001   80.587502   79.125000   79.722504   79.323433  1.031623e+08\n",
              "50%    112.680000  114.412498  110.292503  112.279999  111.919373  1.354452e+08\n",
              "75%    122.599998  124.849998  120.550003  122.720001  122.536896  1.822744e+08\n",
              "max    143.600006  145.089996  141.369995  143.160004  142.946396  4.268848e+08"
            ]
          },
          "metadata": {
            "tags": []
          },
          "execution_count": 77
        }
      ]
    },
    {
      "cell_type": "code",
      "metadata": {
        "colab": {
          "base_uri": "https://localhost:8080/",
          "height": 311
        },
        "id": "FP4z_gEA1wEf",
        "outputId": "0d672a23-f5d6-4b93-ed1e-4a376e6a57c8"
      },
      "source": [
        "df.plot('Date','Open', title='AAPL')"
      ],
      "execution_count": 78,
      "outputs": [
        {
          "output_type": "execute_result",
          "data": {
            "text/plain": [
              "<matplotlib.axes._subplots.AxesSubplot at 0x7f5459141390>"
            ]
          },
          "metadata": {
            "tags": []
          },
          "execution_count": 78
        },
        {
          "output_type": "display_data",
          "data": {
            "image/png": "[encoded data removed]",
            "text/plain": [
              "<Figure size 432x288 with 1 Axes>"
            ]
          },
          "metadata": {
            "tags": [],
            "needs_background": "light"
          }
        }
      ]
    }
  ]
}