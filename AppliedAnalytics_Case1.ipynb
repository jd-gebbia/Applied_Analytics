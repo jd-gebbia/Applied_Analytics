{
  "nbformat": 4,
  "nbformat_minor": 0,
  "metadata": {
    "colab": {
      "name": "AppliedAnalytics_Case1.ipynb",
      "provenance": [],
      "collapsed_sections": []
    },
    "kernelspec": {
      "name": "python3",
      "display_name": "Python 3"
    }
  },
  "cells": [
    {
      "cell_type": "code",
      "metadata": {
        "id": "-mra-sRk5jqK"
      },
      "source": [
        "import pandas as pd\r\n",
        "import numpy as np\r\n",
        "import seaborn as sns\r\n",
        "import sklearn\r\n",
        "import matplotlib as plt\r\n",
        "from matplotlib import pyplot\r\n",
        "!pip install geopandas\r\n",
        "import geopandas\r\n",
        "! pip install pycountry\r\n",
        "import pycountry \r\n"
      ],
      "execution_count": null,
      "outputs": []
    },
    {
      "cell_type": "code",
      "metadata": {
        "id": "hGcL76lD5xPm"
      },
      "source": [
        "og_df = pd.read_csv(\"OlympicHistoryAthletes.csv\")\r\n",
        "og_df.head()"
      ],
      "execution_count": null,
      "outputs": []
    },
    {
      "cell_type": "code",
      "metadata": {
        "colab": {
          "base_uri": "https://localhost:8080/"
        },
        "id": "I0ahQsrI5-m_",
        "outputId": "fbe83178-602f-4c64-90d2-6971df1cb23e"
      },
      "source": [
        "gold_winners=og_df[og_df[\"Medal\"] == \"Gold\"]\r\n",
        "slv_winners= og_df[og_df[\"Medal\"] == \"Silver\"]\r\n",
        "brnz_winners=og_df[og_df[\"Medal\"] == \"Bronze\"]\r\n",
        "\r\n",
        "gold_summer = gold_winners[gold_winners[\"Games\"].str.contains(\"Summer\")]\r\n",
        "gold_winter = gold_winners[gold_winners[\"Games\"].str.contains(\"Winter\")]\r\n",
        "\r\n",
        "slv_summer = slv_winners[slv_winners[\"Games\"].str.contains(\"Summer\")]\r\n",
        "slv_winter = slv_winners[slv_winners[\"Games\"].str.contains(\"Winter\")]\r\n",
        "\r\n",
        "brnz_summer = brnz_winners[brnz_winners[\"Games\"].str.contains(\"Summer\")]\r\n",
        "brnz_winter = brnz_winners[brnz_winners[\"Games\"].str.contains(\"Winter\")]\r\n",
        "\r\n",
        "print(\"Num gold: {}, Num silver: {}, Num Bronze: {}\".format(gold_winners.shape[0], slv_winners.shape[0], brnz_winners.shape[0]))\r\n",
        "print(\"Num gold (summer): {}, Num silver: {}, Num Bronze: {}\".format(gold_summer.shape[0], slv_summer.shape[0], brnz_summer.shape[0]))\r\n",
        "print(\"Num gold (winter): {}, Num silver: {}, Num Bronze: {}\".format(gold_winter.shape[0], slv_winter.shape[0], brnz_winter.shape[0]))"
      ],
      "execution_count": 72,
      "outputs": [
        {
          "output_type": "stream",
          "text": [
            "Num gold: 13372, Num silver: 13116, Num Bronze: 13295\n",
            "Num gold (summer): 11459, Num silver: 11220, Num Bronze: 11409\n",
            "Num gold (winter): 1913, Num silver: 1896, Num Bronze: 1886\n"
          ],
          "name": "stdout"
        }
      ]
    },
    {
      "cell_type": "code",
      "metadata": {
        "id": "CU2VjUSrIT23"
      },
      "source": [
        "# Aggregate counts by Team, Year. Remove multiindex to simplify plotting\r\n",
        "gold_df = gold_winners.groupby(['Team','Year'], as_index=False)\r\n",
        "gold_df = gold_df.agg({'Medal': ['count']})\r\n",
        "gold_df.columns = list(map(''.join, gold_df.columns.values))\r\n",
        "gold_df = gold_df.sort_values(\"Year\")\r\n",
        "\r\n",
        "slv_df = slv_winners.groupby(['Team','Year'], as_index=False)\r\n",
        "slv_df = slv_df.agg({'Medal': ['count']})\r\n",
        "slv_df.columns = list(map(''.join, slv_df.columns.values))\r\n",
        "slv_df = slv_df.sort_values(\"Year\")\r\n",
        "\r\n",
        "brnz_df = brnz_winners.groupby(['Team','Year'], as_index=False)\r\n",
        "brnz_df = brnz_df.agg({'Medal': ['count']})\r\n",
        "brnz_df.columns = list(map(''.join, brnz_df.columns.values))\r\n",
        "brnz_df = brnz_df.sort_values(\"Year\")"
      ],
      "execution_count": null,
      "outputs": []
    },
    {
      "cell_type": "code",
      "metadata": {
        "id": "WGFACE-IJm7C"
      },
      "source": [
        "# gold_df = gold_df.reset_index(level=1)\r\n",
        "gold_df.head()\r\n",
        "print(gold_df.columns)\r\n",
        "print(gold_df[\"Year\"].min())"
      ],
      "execution_count": null,
      "outputs": []
    },
    {
      "cell_type": "code",
      "metadata": {
        "id": "_hgiudb6OTXi"
      },
      "source": [
        "# 242 Teams is too many, filter to only those with > 20 gold medals in the 120 years\r\n",
        "gold_reduced = gold_winners.groupby(['Team'], as_index=False)\r\n",
        "gold_reduced = gold_reduced.agg({'Medal': ['count']})\r\n",
        "gold_reduced.columns = list(map(''.join, gold_reduced.columns.values))"
      ],
      "execution_count": null,
      "outputs": []
    },
    {
      "cell_type": "code",
      "metadata": {
        "id": "jY4HN-K7SOvs"
      },
      "source": [
        "print(gold_reduced.columns)\r\n",
        "gold_reduced = gold_reduced[gold_reduced[\"Medalcount\"] > 40]\r\n",
        "gold_reduced.shape\r\n",
        "\r\n",
        "best_countries = list(gold_reduced[\"Team\"])\r\n",
        "print(len(best_countries))\r\n",
        "\r\n",
        "# Filter out low medalcount coutnries\r\n",
        "gold_reduced = gold_reduced[gold_reduced[\"Team\"].isin(best_countries)]\r\n"
      ],
      "execution_count": null,
      "outputs": []
    },
    {
      "cell_type": "code",
      "metadata": {
        "id": "sI0YDWieahHe"
      },
      "source": [
        "gold_reduced.head()"
      ],
      "execution_count": null,
      "outputs": []
    },
    {
      "cell_type": "code",
      "metadata": {
        "id": "Opj4RON8UBaj"
      },
      "source": [
        "# gold_reduced = gold_reduced.sort_values([\"Year\"])\r\n",
        "gold_reduced[\"ID\"] = [i for i in range(1,gold_reduced.shape[0]+1)]\r\n",
        "gold_reduced.head()\r\n",
        "gold_reduced.shape"
      ],
      "execution_count": null,
      "outputs": []
    },
    {
      "cell_type": "code",
      "metadata": {
        "id": "D_zWrDi_JMOY"
      },
      "source": [
        "# a_dims = (30, 20)\r\n",
        "# fig, ax = pyplot.subplots(figsize=a_dims)\r\n",
        "# sns.lineplot(data=gold_reduced, x=\"ID\", y=\"Medalcount\", hue=\"Team\", style=\"Team\", markers= True)"
      ],
      "execution_count": null,
      "outputs": []
    },
    {
      "cell_type": "code",
      "metadata": {
        "id": "hdw4puRUg6v3"
      },
      "source": [
        "gold_winners.head()"
      ],
      "execution_count": null,
      "outputs": []
    },
    {
      "cell_type": "code",
      "metadata": {
        "colab": {
          "base_uri": "https://localhost:8080/",
          "height": 194
        },
        "id": "VmmTsfuIY9JI",
        "outputId": "27ccda78-dbc1-4e31-a6f9-8b4460199778"
      },
      "source": [
        "def alpha3code(column):\r\n",
        "    CODE=[]\r\n",
        "    for country in column:\r\n",
        "        try:\r\n",
        "            code=pycountry.countries.get(name=country).alpha_3\r\n",
        "           # .alpha_3 means 3-letter country code \r\n",
        "           # .alpha_2 means 2-letter country code\r\n",
        "            CODE.append(code)\r\n",
        "        except:\r\n",
        "            CODE.append('None')\r\n",
        "    return CODE\r\n",
        "# create a column for code \r\n",
        "gold_world_df = gold_winners.groupby(['NOC'], as_index=False)\r\n",
        "gold_world_df = gold_world_df.agg({'Medal': ['count']})\r\n",
        "gold_world_df.columns = list(map(''.join, gold_world_df.columns.values))\r\n",
        "# gold_world_df['CODE']=alpha3code(gold_world_df.NOC)\r\n",
        "gold_world_df['CODE'] = gold_world_df['NOC']\r\n",
        "gold_world_df.head()\r\n",
        "\r\n",
        "slv_world_df = slv_winners.groupby(['NOC'], as_index=False)\r\n",
        "slv_world_df = slv_world_df.agg({'Medal': ['count']})\r\n",
        "slv_world_df.columns = list(map(''.join, slv_world_df.columns.values))\r\n",
        "# slv_world_df['CODE']=alpha3code(slv_world_df.NOC)\r\n",
        "slv_world_df['CODE'] = slv_world_df['NOC']\r\n",
        "slv_world_df.head()\r\n",
        "\r\n",
        "brnz_world_df = brnz_winners.groupby(['NOC'], as_index=False)\r\n",
        "brnz_world_df = brnz_world_df.agg({'Medal': ['count']})\r\n",
        "brnz_world_df.columns = list(map(''.join, brnz_world_df.columns.values))\r\n",
        "# brnz_world_df['CODE']=alpha3code(brnz_world_df.NOC)\r\n",
        "brnz_world_df['CODE'] = brnz_world_df['NOC']\r\n",
        "brnz_world_df.head()"
      ],
      "execution_count": 62,
      "outputs": [
        {
          "output_type": "execute_result",
          "data": {
            "text/html": [
              "<div>\n",
              "<style scoped>\n",
              "    .dataframe tbody tr th:only-of-type {\n",
              "        vertical-align: middle;\n",
              "    }\n",
              "\n",
              "    .dataframe tbody tr th {\n",
              "        vertical-align: top;\n",
              "    }\n",
              "\n",
              "    .dataframe thead th {\n",
              "        text-align: right;\n",
              "    }\n",
              "</style>\n",
              "<table border=\"1\" class=\"dataframe\">\n",
              "  <thead>\n",
              "    <tr style=\"text-align: right;\">\n",
              "      <th></th>\n",
              "      <th>NOC</th>\n",
              "      <th>Medalcount</th>\n",
              "      <th>CODE</th>\n",
              "    </tr>\n",
              "  </thead>\n",
              "  <tbody>\n",
              "    <tr>\n",
              "      <th>0</th>\n",
              "      <td>AFG</td>\n",
              "      <td>2</td>\n",
              "      <td>AFG</td>\n",
              "    </tr>\n",
              "    <tr>\n",
              "      <th>1</th>\n",
              "      <td>ALG</td>\n",
              "      <td>8</td>\n",
              "      <td>ALG</td>\n",
              "    </tr>\n",
              "    <tr>\n",
              "      <th>2</th>\n",
              "      <td>ANZ</td>\n",
              "      <td>5</td>\n",
              "      <td>ANZ</td>\n",
              "    </tr>\n",
              "    <tr>\n",
              "      <th>3</th>\n",
              "      <td>ARG</td>\n",
              "      <td>91</td>\n",
              "      <td>ARG</td>\n",
              "    </tr>\n",
              "    <tr>\n",
              "      <th>4</th>\n",
              "      <td>ARM</td>\n",
              "      <td>9</td>\n",
              "      <td>ARM</td>\n",
              "    </tr>\n",
              "  </tbody>\n",
              "</table>\n",
              "</div>"
            ],
            "text/plain": [
              "   NOC  Medalcount CODE\n",
              "0  AFG           2  AFG\n",
              "1  ALG           8  ALG\n",
              "2  ANZ           5  ANZ\n",
              "3  ARG          91  ARG\n",
              "4  ARM           9  ARM"
            ]
          },
          "metadata": {
            "tags": []
          },
          "execution_count": 62
        }
      ]
    },
    {
      "cell_type": "code",
      "metadata": {
        "id": "-uyqk2LWY9T3"
      },
      "source": [
        ""
      ],
      "execution_count": null,
      "outputs": []
    },
    {
      "cell_type": "code",
      "metadata": {
        "id": "9SMAxB-DY9ZL",
        "colab": {
          "base_uri": "https://localhost:8080/",
          "height": 194
        },
        "outputId": "8166ad65-353a-420f-cbad-42eb43d7e0df"
      },
      "source": [
        "# Summer dfs -----------------------\r\n",
        "# create a column for code \r\n",
        "gold_world_summer = gold_summer.groupby(['NOC'], as_index=False)\r\n",
        "gold_world_summer = gold_world_summer.agg({'Medal': ['count']})\r\n",
        "gold_world_summer.columns = list(map(''.join, gold_world_summer.columns.values))\r\n",
        "# gold_world_summer['CODE']=alpha3code(gold_world_summer.NOC)\r\n",
        "gold_world_summer['CODE'] = gold_world_summer['NOC']\r\n",
        "gold_world_summer.head()\r\n",
        "\r\n",
        "slv_world_summer = slv_summer.groupby(['NOC'], as_index=False)\r\n",
        "slv_world_summer = slv_world_summer.agg({'Medal': ['count']})\r\n",
        "slv_world_summer.columns = list(map(''.join, slv_world_summer.columns.values))\r\n",
        "# slv_world_summer['CODE']=alpha3code(slv_world_summer.NOC)\r\n",
        "slv_world_summer['CODE'] = slv_world_summer['NOC']\r\n",
        "slv_world_summer.head()\r\n",
        "\r\n",
        "brnz_world_summer = brnz_summer.groupby(['NOC'], as_index=False)\r\n",
        "brnz_world_summer = brnz_world_summer.agg({'Medal': ['count']})\r\n",
        "brnz_world_summer.columns = list(map(''.join, brnz_world_summer.columns.values))\r\n",
        "# brnz_world_summer['CODE']=alpha3code(brnz_world_summer.NOC)\r\n",
        "brnz_world_summer['CODE'] = brnz_world_summer['NOC']\r\n",
        "brnz_world_summer.head()\r\n",
        "\r\n",
        "# Winter dfs -------------------------------\r\n",
        "# create a column for code \r\n",
        "gold_world_winter = gold_winter.groupby(['NOC'], as_index=False)\r\n",
        "gold_world_winter = gold_world_winter.agg({'Medal': ['count']})\r\n",
        "gold_world_winter.columns = list(map(''.join, gold_world_winter.columns.values))\r\n",
        "# gold_world_winter['CODE']=alpha3code(gold_world_winter.NOC)\r\n",
        "gold_world_winter['CODE'] = gold_world_winter['NOC']\r\n",
        "gold_world_winter.head()\r\n",
        "\r\n",
        "slv_world_winter = slv_winter.groupby(['NOC'], as_index=False)\r\n",
        "slv_world_winter = slv_world_winter.agg({'Medal': ['count']})\r\n",
        "slv_world_winter.columns = list(map(''.join, slv_world_winter.columns.values))\r\n",
        "# slv_world_winter['CODE']=alpha3code(slv_world_winter.NOC)\r\n",
        "slv_world_winter['CODE'] = slv_world_winter['NOC']\r\n",
        "slv_world_winter.head()\r\n",
        "\r\n",
        "brnz_world_winter = brnz_winter.groupby(['NOC'], as_index=False)\r\n",
        "brnz_world_winter = brnz_world_winter.agg({'Medal': ['count']})\r\n",
        "brnz_world_winter.columns = list(map(''.join, brnz_world_winter.columns.values))\r\n",
        "# brnz_world_winter['CODE']=alpha3code(brnz_world_winter.NOC)\r\n",
        "brnz_world_winter['CODE'] = brnz_world_winter['NOC']\r\n",
        "brnz_world_winter.head()"
      ],
      "execution_count": 73,
      "outputs": [
        {
          "output_type": "execute_result",
          "data": {
            "text/html": [
              "<div>\n",
              "<style scoped>\n",
              "    .dataframe tbody tr th:only-of-type {\n",
              "        vertical-align: middle;\n",
              "    }\n",
              "\n",
              "    .dataframe tbody tr th {\n",
              "        vertical-align: top;\n",
              "    }\n",
              "\n",
              "    .dataframe thead th {\n",
              "        text-align: right;\n",
              "    }\n",
              "</style>\n",
              "<table border=\"1\" class=\"dataframe\">\n",
              "  <thead>\n",
              "    <tr style=\"text-align: right;\">\n",
              "      <th></th>\n",
              "      <th>NOC</th>\n",
              "      <th>Medalcount</th>\n",
              "      <th>CODE</th>\n",
              "    </tr>\n",
              "  </thead>\n",
              "  <tbody>\n",
              "    <tr>\n",
              "      <th>0</th>\n",
              "      <td>AUS</td>\n",
              "      <td>7</td>\n",
              "      <td>AUS</td>\n",
              "    </tr>\n",
              "    <tr>\n",
              "      <th>1</th>\n",
              "      <td>AUT</td>\n",
              "      <td>103</td>\n",
              "      <td>AUT</td>\n",
              "    </tr>\n",
              "    <tr>\n",
              "      <th>2</th>\n",
              "      <td>BEL</td>\n",
              "      <td>7</td>\n",
              "      <td>BEL</td>\n",
              "    </tr>\n",
              "    <tr>\n",
              "      <th>3</th>\n",
              "      <td>BLR</td>\n",
              "      <td>5</td>\n",
              "      <td>BLR</td>\n",
              "    </tr>\n",
              "    <tr>\n",
              "      <th>4</th>\n",
              "      <td>BUL</td>\n",
              "      <td>3</td>\n",
              "      <td>BUL</td>\n",
              "    </tr>\n",
              "  </tbody>\n",
              "</table>\n",
              "</div>"
            ],
            "text/plain": [
              "   NOC  Medalcount CODE\n",
              "0  AUS           7  AUS\n",
              "1  AUT         103  AUT\n",
              "2  BEL           7  BEL\n",
              "3  BLR           5  BLR\n",
              "4  BUL           3  BUL"
            ]
          },
          "metadata": {
            "tags": []
          },
          "execution_count": 73
        }
      ]
    },
    {
      "cell_type": "code",
      "metadata": {
        "colab": {
          "base_uri": "https://localhost:8080/",
          "height": 194
        },
        "id": "niNkvp7KJMYR",
        "outputId": "11912cff-9eb7-4b5c-b7eb-28e70a368cd3"
      },
      "source": [
        "world = geopandas.read_file(geopandas.datasets.get_path('naturalearth_lowres'))\r\n",
        "# rename the columns so that we can merge with our data\r\n",
        "world.columns=['pop_est', 'continent', 'name', 'CODE', 'gdp_md_est', 'geometry']\r\n",
        "world.head()\r\n",
        "\r\n",
        "world_gold=pd.merge(world,gold_world_df,on='CODE')\r\n",
        "world_gold_summer=pd.merge(world,gold_world_summer,on='CODE')\r\n",
        "world_gold_winter=pd.merge(world,gold_world_winter,on='CODE')\r\n",
        "\r\n",
        "world_slv=pd.merge(world,slv_world_df,on='CODE')\r\n",
        "world_slv_summer=pd.merge(world,slv_world_summer,on='CODE')\r\n",
        "world_slv_winter=pd.merge(world,slv_world_winter,on='CODE')\r\n",
        "world_slv.head()\r\n",
        "\r\n",
        "world_brnz=pd.merge(world,brnz_world_df,on='CODE')\r\n",
        "world_brnz_summer=pd.merge(world,brnz_world_summer,on='CODE')\r\n",
        "world_brnz_winter=pd.merge(world,brnz_world_winter,on='CODE')\r\n",
        "world_brnz.head()"
      ],
      "execution_count": 74,
      "outputs": [
        {
          "output_type": "execute_result",
          "data": {
            "text/html": [
              "<div>\n",
              "<style scoped>\n",
              "    .dataframe tbody tr th:only-of-type {\n",
              "        vertical-align: middle;\n",
              "    }\n",
              "\n",
              "    .dataframe tbody tr th {\n",
              "        vertical-align: top;\n",
              "    }\n",
              "\n",
              "    .dataframe thead th {\n",
              "        text-align: right;\n",
              "    }\n",
              "</style>\n",
              "<table border=\"1\" class=\"dataframe\">\n",
              "  <thead>\n",
              "    <tr style=\"text-align: right;\">\n",
              "      <th></th>\n",
              "      <th>pop_est</th>\n",
              "      <th>continent</th>\n",
              "      <th>name</th>\n",
              "      <th>CODE</th>\n",
              "      <th>gdp_md_est</th>\n",
              "      <th>geometry</th>\n",
              "      <th>NOC</th>\n",
              "      <th>Medalcount</th>\n",
              "    </tr>\n",
              "  </thead>\n",
              "  <tbody>\n",
              "    <tr>\n",
              "      <th>0</th>\n",
              "      <td>35623680</td>\n",
              "      <td>North America</td>\n",
              "      <td>Canada</td>\n",
              "      <td>CAN</td>\n",
              "      <td>1674000.0</td>\n",
              "      <td>MULTIPOLYGON (((-122.84000 49.00000, -122.9742...</td>\n",
              "      <td>CAN</td>\n",
              "      <td>451</td>\n",
              "    </tr>\n",
              "    <tr>\n",
              "      <th>1</th>\n",
              "      <td>326625791</td>\n",
              "      <td>North America</td>\n",
              "      <td>United States of America</td>\n",
              "      <td>USA</td>\n",
              "      <td>18560000.0</td>\n",
              "      <td>MULTIPOLYGON (((-122.84000 49.00000, -120.0000...</td>\n",
              "      <td>USA</td>\n",
              "      <td>1358</td>\n",
              "    </tr>\n",
              "    <tr>\n",
              "      <th>2</th>\n",
              "      <td>18556698</td>\n",
              "      <td>Asia</td>\n",
              "      <td>Kazakhstan</td>\n",
              "      <td>KAZ</td>\n",
              "      <td>460700.0</td>\n",
              "      <td>POLYGON ((87.35997 49.21498, 86.59878 48.54918...</td>\n",
              "      <td>KAZ</td>\n",
              "      <td>32</td>\n",
              "    </tr>\n",
              "    <tr>\n",
              "      <th>3</th>\n",
              "      <td>29748859</td>\n",
              "      <td>Asia</td>\n",
              "      <td>Uzbekistan</td>\n",
              "      <td>UZB</td>\n",
              "      <td>202300.0</td>\n",
              "      <td>POLYGON ((55.96819 41.30864, 55.92892 44.99586...</td>\n",
              "      <td>UZB</td>\n",
              "      <td>17</td>\n",
              "    </tr>\n",
              "    <tr>\n",
              "      <th>4</th>\n",
              "      <td>44293293</td>\n",
              "      <td>South America</td>\n",
              "      <td>Argentina</td>\n",
              "      <td>ARG</td>\n",
              "      <td>879400.0</td>\n",
              "      <td>MULTIPOLYGON (((-68.63401 -52.63637, -68.25000...</td>\n",
              "      <td>ARG</td>\n",
              "      <td>91</td>\n",
              "    </tr>\n",
              "  </tbody>\n",
              "</table>\n",
              "</div>"
            ],
            "text/plain": [
              "     pop_est      continent  ...  NOC Medalcount\n",
              "0   35623680  North America  ...  CAN        451\n",
              "1  326625791  North America  ...  USA       1358\n",
              "2   18556698           Asia  ...  KAZ         32\n",
              "3   29748859           Asia  ...  UZB         17\n",
              "4   44293293  South America  ...  ARG         91\n",
              "\n",
              "[5 rows x 8 columns]"
            ]
          },
          "metadata": {
            "tags": []
          },
          "execution_count": 74
        }
      ]
    },
    {
      "cell_type": "code",
      "metadata": {
        "id": "mr0dyL-icXr5"
      },
      "source": [
        "# world_gold.head()\r\n",
        "# world_gold_summer.head()\r\n",
        "# world_gold_winter.head()"
      ],
      "execution_count": null,
      "outputs": []
    },
    {
      "cell_type": "code",
      "metadata": {
        "id": "zBiCQYNiJMd0"
      },
      "source": [
        "a_dims = (18, 15)\r\n",
        "fig, ax = pyplot.subplots(figsize=a_dims)\r\n",
        "ax.set_title(\"Gold Medal Count by Country\")\r\n",
        "base = world.plot(color='white', ax=ax, edgecolor='black')\r\n",
        "world_gold.plot(column='Medalcount', ax=base, cmap='Wistia',  legend= True,\r\n",
        "                legend_kwds={'label': \"Gold Metal Count by Country\", 'orientation': \"horizontal\"})"
      ],
      "execution_count": null,
      "outputs": []
    },
    {
      "cell_type": "code",
      "metadata": {
        "id": "Pf22iP-VJMoz"
      },
      "source": [
        "a_dims = (18, 15)\r\n",
        "fig, ax = pyplot.subplots(figsize=a_dims)\r\n",
        "ax.set_title(\"Silver Medal Count by Country\")\r\n",
        "base = world.plot(color='white', ax=ax, edgecolor='black')\r\n",
        "world_slv.plot(column='Medalcount', ax=base, cmap='Blues',  legend=True,\r\n",
        "               legend_kwds={'label': \"Silver Metal Count by Country\", 'orientation': \"horizontal\"})"
      ],
      "execution_count": null,
      "outputs": []
    },
    {
      "cell_type": "code",
      "metadata": {
        "id": "9R9N-TDAb2Pz"
      },
      "source": [
        "a_dims = (18, 15)\r\n",
        "fig, ax = pyplot.subplots(figsize=a_dims)\r\n",
        "ax.set_title(\"Bronze Medal Count by Country\")\r\n",
        "base = world.plot(color='white', ax=ax, edgecolor='black')\r\n",
        "world_brnz.plot(column='Medalcount', ax=base, cmap='Oranges',  legend=True,\r\n",
        "                legend_kwds={'label': \"Bronze Metal Count by Country\", 'orientation': \"horizontal\"})"
      ],
      "execution_count": null,
      "outputs": []
    },
    {
      "cell_type": "code",
      "metadata": {
        "id": "g-oBv3YUb2aQ"
      },
      "source": [
        "world_gold.head()"
      ],
      "execution_count": null,
      "outputs": []
    },
    {
      "cell_type": "code",
      "metadata": {
        "id": "fgHIhkfeb2gE"
      },
      "source": [
        ""
      ],
      "execution_count": null,
      "outputs": []
    },
    {
      "cell_type": "code",
      "metadata": {
        "id": "GPUZea0gb2k7"
      },
      "source": [
        "a_dims = (12, 8)\r\n",
        "fig, ax = pyplot.subplots(figsize=a_dims)\r\n",
        "ax = plt.pyplot.gca()\r\n",
        "ax.set_title(\"Correlation Gold Medal Count and GDP:\" +str(round( world_gold['Medalcount'].corr(world_gold['gdp_md_est']) ,3)))\r\n",
        "sns.regplot(data=world_gold, x=\"Medalcount\", y=\"gdp_md_est\", marker=\"+\", color=\"y\")\r\n",
        "ax.set_ylabel(\"Estimated GDP\")"
      ],
      "execution_count": null,
      "outputs": []
    },
    {
      "cell_type": "code",
      "metadata": {
        "id": "yTMIA-VTcV7H"
      },
      "source": [
        "a_dims = (12, 8)\r\n",
        "fig, ax = pyplot.subplots(figsize=a_dims)\r\n",
        "ax = plt.pyplot.gca()\r\n",
        "ax.set_title(\"Correlation Silver Medal count and GDP:\" +str( round(world_slv['Medalcount'].corr(world_slv['gdp_md_est']), 3)))\r\n",
        "sns.regplot(data=world_slv, x=\"Medalcount\", y=\"gdp_md_est\", marker=\"+\", color=\"grey\")\r\n",
        "ax.set_ylabel(\"Estimated GDP\")"
      ],
      "execution_count": null,
      "outputs": []
    },
    {
      "cell_type": "code",
      "metadata": {
        "id": "aN2QpPadcWI2"
      },
      "source": [
        "a_dims = (12, 8)\r\n",
        "fig, ax = pyplot.subplots(figsize=a_dims)\r\n",
        "ax = plt.pyplot.gca()\r\n",
        "ax.set_title(\"Correlation Bronze Medal count and GDP:\" +str(round(world_brnz['Medalcount'].corr(world_brnz['gdp_md_est']), 3) ))\r\n",
        "ax.set_xlim(0, 3000)\r\n",
        "sns.regplot(data=world_brnz, x=\"Medalcount\", y=\"gdp_md_est\", robust=True, marker=\"+\", color=\"sandybrown\")\r\n",
        "ax.set_ylabel(\"Estimated GDP\")"
      ],
      "execution_count": null,
      "outputs": []
    },
    {
      "cell_type": "code",
      "metadata": {
        "colab": {
          "base_uri": "https://localhost:8080/",
          "height": 531
        },
        "id": "ysnzBV6Obrpe",
        "outputId": "823c8c73-afa1-4e0d-a99d-f9d2f8d2b1aa"
      },
      "source": [
        "a_dims = (12, 8)\r\n",
        "\r\n",
        "# fig, ax =pyplot.subplots(1,2)\r\n",
        "\r\n",
        "fig, ax = pyplot.subplots(figsize=a_dims)\r\n",
        "\r\n",
        "ax = plt.pyplot.gca()\r\n",
        "ax.set_title(\"Correlation Summer Gold Medal Count and GDP:\" +str(round( world_gold_summer['Medalcount'].corr(world_gold_summer['gdp_md_est']) ,3)))\r\n",
        "sns.regplot(data=world_gold_summer, x=\"Medalcount\", y=\"gdp_md_est\", marker=\"+\", color=\"y\")\r\n",
        "ax.set_ylabel(\"Estimated GDP\")\r\n"
      ],
      "execution_count": 77,
      "outputs": [
        {
          "output_type": "execute_result",
          "data": {
            "text/plain": [
              "Text(0, 0.5, 'Estimated GDP')"
            ]
          },
          "metadata": {
            "tags": []
          },
          "execution_count": 77
        },
        {
          "output_type": "display_data",
          "data": {
            "image/png": "[encoded data removed]",
            "text/plain": [
              "<Figure size 864x576 with 1 Axes>"
            ]
          },
          "metadata": {
            "tags": [],
            "needs_background": "light"
          }
        }
      ]
    },
    {
      "cell_type": "code",
      "metadata": {
        "colab": {
          "base_uri": "https://localhost:8080/",
          "height": 531
        },
        "id": "W7HElMAqdhoM",
        "outputId": "b460b6b0-d3f8-4d01-80ac-48d9257385f0"
      },
      "source": [
        "a_dims = (12, 8)\r\n",
        "\r\n",
        "# fig, ax =pyplot.subplots(1,2)\r\n",
        "\r\n",
        "fig, ax = pyplot.subplots(figsize=a_dims)\r\n",
        "\r\n",
        "ax = plt.pyplot.gca()\r\n",
        "ax.set_title(\"Correlation Winter Gold Medal Count and GDP:\" +str(round( world_gold_winter['Medalcount'].corr(world_gold_winter['gdp_md_est']) ,3)))\r\n",
        "sns.regplot(data=world_gold_winter, x=\"Medalcount\", y=\"gdp_md_est\", marker=\"+\", color=\"y\")\r\n",
        "ax.set_ylabel(\"Estimated GDP\")"
      ],
      "execution_count": 78,
      "outputs": [
        {
          "output_type": "execute_result",
          "data": {
            "text/plain": [
              "Text(0, 0.5, 'Estimated GDP')"
            ]
          },
          "metadata": {
            "tags": []
          },
          "execution_count": 78
        },
        {
          "output_type": "display_data",
          "data": {
            "image/png": "[encoded data removed]",
            "text/plain": [
              "<Figure size 864x576 with 1 Axes>"
            ]
          },
          "metadata": {
            "tags": [],
            "needs_background": "light"
          }
        }
      ]
    },
    {
      "cell_type": "code",
      "metadata": {
        "colab": {
          "base_uri": "https://localhost:8080/",
          "height": 531
        },
        "id": "OIeAiN2Pbr0w",
        "outputId": "d66fc29f-9df1-4ba5-c0f7-0ef1c660d90a"
      },
      "source": [
        "a_dims = (12, 8)\r\n",
        "\r\n",
        "# fig, ax =pyplot.subplots(1,2)\r\n",
        "\r\n",
        "fig, ax = pyplot.subplots(figsize=a_dims)\r\n",
        "\r\n",
        "ax = plt.pyplot.gca()\r\n",
        "ax.set_title(\"Correlation Summer Silver Medal Count and GDP:\" +str(round( world_slv_summer['Medalcount'].corr(world_slv_summer['gdp_md_est']) ,3)))\r\n",
        "sns.regplot(data=world_slv_summer, x=\"Medalcount\", y=\"gdp_md_est\", marker=\"+\", color=\"grey\")\r\n",
        "ax.set_ylabel(\"Estimated GDP\")"
      ],
      "execution_count": 79,
      "outputs": [
        {
          "output_type": "execute_result",
          "data": {
            "text/plain": [
              "Text(0, 0.5, 'Estimated GDP')"
            ]
          },
          "metadata": {
            "tags": []
          },
          "execution_count": 79
        },
        {
          "output_type": "display_data",
          "data": {
            "image/png": "[encoded data removed]",
            "text/plain": [
              "<Figure size 864x576 with 1 Axes>"
            ]
          },
          "metadata": {
            "tags": [],
            "needs_background": "light"
          }
        }
      ]
    },
    {
      "cell_type": "code",
      "metadata": {
        "colab": {
          "base_uri": "https://localhost:8080/",
          "height": 531
        },
        "id": "N17u6RyueIoq",
        "outputId": "672d1336-90bd-4482-9e6a-a02ebf224616"
      },
      "source": [
        "a_dims = (12, 8)\r\n",
        "\r\n",
        "# fig, ax =pyplot.subplots(1,2)\r\n",
        "\r\n",
        "fig, ax = pyplot.subplots(figsize=a_dims)\r\n",
        "\r\n",
        "ax = plt.pyplot.gca()\r\n",
        "ax.set_title(\"Correlation Winter Silver Medal Count and GDP:\" +str(round( world_slv_winter['Medalcount'].corr(world_slv_winter['gdp_md_est']) ,3)))\r\n",
        "sns.regplot(data=world_slv_winter, x=\"Medalcount\", y=\"gdp_md_est\", marker=\"+\", color=\"grey\")\r\n",
        "ax.set_ylabel(\"Estimated GDP\")"
      ],
      "execution_count": 80,
      "outputs": [
        {
          "output_type": "execute_result",
          "data": {
            "text/plain": [
              "Text(0, 0.5, 'Estimated GDP')"
            ]
          },
          "metadata": {
            "tags": []
          },
          "execution_count": 80
        },
        {
          "output_type": "display_data",
          "data": {
            "image/png": "[encoded data removed]",
            "text/plain": [
              "<Figure size 864x576 with 1 Axes>"
            ]
          },
          "metadata": {
            "tags": [],
            "needs_background": "light"
          }
        }
      ]
    },
    {
      "cell_type": "code",
      "metadata": {
        "colab": {
          "base_uri": "https://localhost:8080/",
          "height": 531
        },
        "id": "TxfAWbINeIvQ",
        "outputId": "1a681660-1353-4190-dad9-44be15e976a5"
      },
      "source": [
        "a_dims = (12, 8)\r\n",
        "\r\n",
        "# fig, ax =pyplot.subplots(1,2)\r\n",
        "\r\n",
        "fig, ax = pyplot.subplots(figsize=a_dims)\r\n",
        "\r\n",
        "ax = plt.pyplot.gca()\r\n",
        "ax.set_title(\"Correlation Summer Bronze Medal Count and GDP:\" +str(round( world_brnz_summer['Medalcount'].corr(world_brnz_summer['gdp_md_est']) ,3)))\r\n",
        "sns.regplot(data=world_brnz_summer, x=\"Medalcount\", y=\"gdp_md_est\", marker=\"+\", color=\"sandybrown\")\r\n",
        "ax.set_ylabel(\"Estimated GDP\")"
      ],
      "execution_count": 81,
      "outputs": [
        {
          "output_type": "execute_result",
          "data": {
            "text/plain": [
              "Text(0, 0.5, 'Estimated GDP')"
            ]
          },
          "metadata": {
            "tags": []
          },
          "execution_count": 81
        },
        {
          "output_type": "display_data",
          "data": {
            "image/png": "[encoded data removed]",
            "text/plain": [
              "<Figure size 864x576 with 1 Axes>"
            ]
          },
          "metadata": {
            "tags": [],
            "needs_background": "light"
          }
        }
      ]
    },
    {
      "cell_type": "code",
      "metadata": {
        "colab": {
          "base_uri": "https://localhost:8080/",
          "height": 531
        },
        "id": "Lu8K6K4yeIzm",
        "outputId": "a6ecae72-4f9e-4bfd-ee5e-ab5be1914b8e"
      },
      "source": [
        "a_dims = (12, 8)\r\n",
        "\r\n",
        "# fig, ax =pyplot.subplots(1,2)\r\n",
        "\r\n",
        "fig, ax = pyplot.subplots(figsize=a_dims)\r\n",
        "\r\n",
        "ax = plt.pyplot.gca()\r\n",
        "ax.set_title(\"Correlation Winter Bronze Medal Count and GDP:\" +str(round( world_brnz_winter['Medalcount'].corr(world_brnz_winter['gdp_md_est']) ,3)))\r\n",
        "sns.regplot(data=world_brnz_winter, x=\"Medalcount\", y=\"gdp_md_est\", marker=\"+\", color=\"sandybrown\")\r\n",
        "ax.set_ylabel(\"Estimated GDP\")"
      ],
      "execution_count": 82,
      "outputs": [
        {
          "output_type": "execute_result",
          "data": {
            "text/plain": [
              "Text(0, 0.5, 'Estimated GDP')"
            ]
          },
          "metadata": {
            "tags": []
          },
          "execution_count": 82
        },
        {
          "output_type": "display_data",
          "data": {
            "image/png": "[encoded data removed]",
            "text/plain": [
              "<Figure size 864x576 with 1 Axes>"
            ]
          },
          "metadata": {
            "tags": [],
            "needs_background": "light"
          }
        }
      ]
    },
    {
      "cell_type": "code",
      "metadata": {
        "id": "hpuVvlgLeI4F"
      },
      "source": [
        ""
      ],
      "execution_count": 82,
      "outputs": []
    },
    {
      "cell_type": "code",
      "metadata": {
        "id": "alNPAduI5-zL"
      },
      "source": [
        "# countries= gold_winners['Team'].unique()\r\n",
        "\r\n",
        "# # Will hold dict of {team : df(team's gold winners)}\r\n",
        "# gold_countries = dict()\r\n",
        "# for x in countries:\r\n",
        "#   gold_countries[x]=gold_winners[gold_winners[\"Team\"]==x]\r\n",
        "\r\n",
        "# # slv\r\n",
        "# countries= slv_winners['Team'].unique()\r\n",
        "# slv_countries = dict()\r\n",
        "# for x in countries:\r\n",
        "#   slv_countries[x]=slv_winners[slv_winners[\"Team\"]==x]\r\n",
        "\r\n",
        "# # brnz\r\n",
        "# countries= brnz_winners['Team'].unique()\r\n",
        "# brnz_countries = dict()\r\n",
        "# for x in countries:\r\n",
        "#   brnz_countries[x]=brnz_winners[brnz_winners[\"Team\"]==x]\r\n",
        "\r\n",
        "# # ex:\r\n",
        "# gold_countries[\"China\"].head()"
      ],
      "execution_count": 83,
      "outputs": []
    },
    {
      "cell_type": "code",
      "metadata": {
        "id": "wuJTqwpg_11x"
      },
      "source": [
        "# # dict holds {country: dict(year:#medals)}\r\n",
        "# gold_years = dict()\r\n",
        "# for x in gold_countries:\r\n",
        "#   df = gold_countries[x]\r\n",
        "#   df = df.sort_values(by=['Year'])\r\n",
        "#   year_wins = dict()\r\n",
        "#   for i in df[\"Year\"].unique():\r\n",
        "#     year_wins[i] = df[df[\"Year\"]==i].shape[0]\r\n",
        "#   gold_years[x] = year_wins\r\n",
        "\r\n",
        "# slv_years = dict()\r\n",
        "# for x in slv_countries:\r\n",
        "#   df =slv_countries[x]\r\n",
        "#   df = df.sort_values(by=['Year'])\r\n",
        "#   year_wins = dict()\r\n",
        "#   for i in df[\"Year\"].unique():\r\n",
        "#     year_wins[i] = df[df[\"Year\"]==i].shape[0]\r\n",
        "#   slv_years[x] = year_wins\r\n",
        "\r\n",
        "# brnz_years = dict()\r\n",
        "# for x in brnz_countries:\r\n",
        "#   df = brnz_countries[x]\r\n",
        "#   df = df.sort_values(by=['Year'])\r\n",
        "#   year_wins = dict()\r\n",
        "#   for i in df[\"Year\"].unique():\r\n",
        "#     year_wins[i] = df[df[\"Year\"]==i].shape[0]\r\n",
        "#   brnz_years[x] = year_wins\r\n",
        "  \r\n",
        "# print(brnz_years)\r\n"
      ],
      "execution_count": 84,
      "outputs": []
    },
    {
      "cell_type": "code",
      "metadata": {
        "id": "bQIzU4seF33k"
      },
      "source": [
        ""
      ],
      "execution_count": 84,
      "outputs": []
    },
    {
      "cell_type": "code",
      "metadata": {
        "id": "4XUa_EU-_2D9"
      },
      "source": [
        "# At this point we have number of each medal won by each team for every year in the dataset\r\n"
      ],
      "execution_count": 85,
      "outputs": []
    },
    {
      "cell_type": "code",
      "metadata": {
        "id": "9Kj_LXB3_2Uk"
      },
      "source": [
        ""
      ],
      "execution_count": 85,
      "outputs": []
    }
  ]
}