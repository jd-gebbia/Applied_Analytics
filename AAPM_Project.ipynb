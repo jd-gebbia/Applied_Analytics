{
  "nbformat": 4,
  "nbformat_minor": 0,
  "metadata": {
    "colab": {
      "name": "AAPM Project.ipynb",
      "provenance": [],
      "authorship_tag": "ABX9TyMCDxWaBOJKw4T6+l7VhO8Z",
      "include_colab_link": true
    },
    "kernelspec": {
      "name": "python3",
      "display_name": "Python 3"
    }
  },
  "cells": [
    {
      "cell_type": "markdown",
      "metadata": {
        "id": "view-in-github",
        "colab_type": "text"
      },
      "source": [
        "<a href=\"https://colab.research.google.com/github/jd-gebbia/Applied_Analytics/blob/main/AAPM_Project.ipynb\" target=\"_parent\"><img src=\"https://colab.research.google.com/assets/colab-badge.svg\" alt=\"Open In Colab\"/></a>"
      ]
    },
    {
      "cell_type": "code",
      "metadata": {
        "colab": {
          "base_uri": "https://localhost:8080/"
        },
        "id": "8m3cYMaT4VCh",
        "outputId": "ad5d9a72-3f24-48f7-b6bc-14f141084bf9"
      },
      "source": [
        "from google.colab import drive\n",
        "drive.mount('/content/drive')"
      ],
      "execution_count": null,
      "outputs": [
        {
          "output_type": "stream",
          "text": [
            "Mounted at /content/drive\n"
          ],
          "name": "stdout"
        }
      ]
    },
    {
      "cell_type": "code",
      "metadata": {
        "id": "ajPWl4vk5F17"
      },
      "source": [
        "import json\n",
        "import pandas as pd\n",
        "import ast\n",
        "\n",
        "path = ['/content/drive/MyDrive/Project_Spring2021/RedditPosts/amazonecho_redditPosts.json',\n",
        "        '/content/drive/MyDrive/Project_Spring2021/RedditPosts/googlehome_redditPosts.json',\n",
        "        '/content/drive/MyDrive/Project_Spring2021/RedditPosts/HomePod_redditPosts.json']\n",
        "with open(path[0]) as f:\n",
        "  amz = json.load(f)\n",
        "with open(path[1]) as f:\n",
        "  ggl = json.load(f)\n",
        "with open(path[2]) as f:\n",
        "  hpd = json.load(f)\n",
        "\n",
        "def json_to_df(df, path):\n",
        "  df = pd.read_json(path, encoding='utf-8')\n",
        "  #df[0] = df[0].apply(lambda x: {} if pd.isna(x) else ast.literal_eval(x))\n",
        "  #df = pd.DataFrame(df[0].to_dict()).T\n",
        "  return df\n",
        "\n",
        "amz = pd.read_json(path[0], encoding='utf-8')\n",
        "ggl = pd.read_json(path[1], encoding='utf-8')\n",
        "hpd = pd.read_json(path[2], encoding='utf-8')\n",
        "df = pd.concat([amz,ggl,hpd]).reset_index()"
      ],
      "execution_count": null,
      "outputs": []
    },
    {
      "cell_type": "markdown",
      "metadata": {
        "id": "n-UqRllT-QE6"
      },
      "source": [
        "## Reddit Posts"
      ]
    },
    {
      "cell_type": "code",
      "metadata": {
        "colab": {
          "base_uri": "https://localhost:8080/",
          "height": 445
        },
        "id": "6Oa11xbgoIx3",
        "outputId": "c206c52e-738c-4fec-e5bb-e6e33532b474"
      },
      "source": [
        "df.head()"
      ],
      "execution_count": null,
      "outputs": [
        {
          "output_type": "execute_result",
          "data": {
            "text/html": [
              "<div>\n",
              "<style scoped>\n",
              "    .dataframe tbody tr th:only-of-type {\n",
              "        vertical-align: middle;\n",
              "    }\n",
              "\n",
              "    .dataframe tbody tr th {\n",
              "        vertical-align: top;\n",
              "    }\n",
              "\n",
              "    .dataframe thead th {\n",
              "        text-align: right;\n",
              "    }\n",
              "</style>\n",
              "<table border=\"1\" class=\"dataframe\">\n",
              "  <thead>\n",
              "    <tr style=\"text-align: right;\">\n",
              "      <th></th>\n",
              "      <th>all_awardings</th>\n",
              "      <th>associated_award</th>\n",
              "      <th>author</th>\n",
              "      <th>author_flair_background_color</th>\n",
              "      <th>author_flair_css_class</th>\n",
              "      <th>author_flair_richtext</th>\n",
              "      <th>author_flair_template_id</th>\n",
              "      <th>author_flair_text</th>\n",
              "      <th>author_flair_text_color</th>\n",
              "      <th>author_flair_type</th>\n",
              "      <th>author_fullname</th>\n",
              "      <th>author_patreon_flair</th>\n",
              "      <th>author_premium</th>\n",
              "      <th>awarders</th>\n",
              "      <th>body</th>\n",
              "      <th>collapsed_because_crowd_control</th>\n",
              "      <th>comment_type</th>\n",
              "      <th>created_utc</th>\n",
              "      <th>gildings</th>\n",
              "      <th>id</th>\n",
              "      <th>is_submitter</th>\n",
              "      <th>link_id</th>\n",
              "      <th>locked</th>\n",
              "      <th>no_follow</th>\n",
              "      <th>parent_id</th>\n",
              "      <th>permalink</th>\n",
              "      <th>retrieved_on</th>\n",
              "      <th>score</th>\n",
              "      <th>send_replies</th>\n",
              "      <th>stickied</th>\n",
              "      <th>subreddit</th>\n",
              "      <th>subreddit_id</th>\n",
              "      <th>top_awarded_type</th>\n",
              "      <th>total_awards_received</th>\n",
              "      <th>treatment_tags</th>\n",
              "      <th>created</th>\n",
              "      <th>author_cakeday</th>\n",
              "      <th>distinguished</th>\n",
              "      <th>edited</th>\n",
              "    </tr>\n",
              "  </thead>\n",
              "  <tbody>\n",
              "    <tr>\n",
              "      <th>0</th>\n",
              "      <td>[]</td>\n",
              "      <td>NaN</td>\n",
              "      <td>monkey_scandal</td>\n",
              "      <td>None</td>\n",
              "      <td>None</td>\n",
              "      <td>[]</td>\n",
              "      <td>NaN</td>\n",
              "      <td>None</td>\n",
              "      <td>None</td>\n",
              "      <td>text</td>\n",
              "      <td>t2_blxlo</td>\n",
              "      <td>0.0</td>\n",
              "      <td>0.0</td>\n",
              "      <td>[]</td>\n",
              "      <td>Does the mechanism make a noise when it moves ...</td>\n",
              "      <td>NaN</td>\n",
              "      <td>NaN</td>\n",
              "      <td>1614314384</td>\n",
              "      <td>{}</td>\n",
              "      <td>gosnwuw</td>\n",
              "      <td>False</td>\n",
              "      <td>t3_lsi3a0</td>\n",
              "      <td>False</td>\n",
              "      <td>False</td>\n",
              "      <td>t3_lsi3a0</td>\n",
              "      <td>/r/amazonecho/comments/lsi3a0/excited_to_try_o...</td>\n",
              "      <td>1614462241</td>\n",
              "      <td>4</td>\n",
              "      <td>True</td>\n",
              "      <td>False</td>\n",
              "      <td>amazonecho</td>\n",
              "      <td>t5_34em3</td>\n",
              "      <td>NaN</td>\n",
              "      <td>0</td>\n",
              "      <td>[]</td>\n",
              "      <td>1614332384</td>\n",
              "      <td>NaN</td>\n",
              "      <td>None</td>\n",
              "      <td>NaN</td>\n",
              "    </tr>\n",
              "    <tr>\n",
              "      <th>1</th>\n",
              "      <td>[]</td>\n",
              "      <td>NaN</td>\n",
              "      <td>RaySheo</td>\n",
              "      <td>None</td>\n",
              "      <td>None</td>\n",
              "      <td>[]</td>\n",
              "      <td>NaN</td>\n",
              "      <td>None</td>\n",
              "      <td>None</td>\n",
              "      <td>text</td>\n",
              "      <td>t2_a1knny5u</td>\n",
              "      <td>0.0</td>\n",
              "      <td>0.0</td>\n",
              "      <td>[]</td>\n",
              "      <td>Where do you find that detail?</td>\n",
              "      <td>NaN</td>\n",
              "      <td>NaN</td>\n",
              "      <td>1614313793</td>\n",
              "      <td>{}</td>\n",
              "      <td>gosmxbx</td>\n",
              "      <td>False</td>\n",
              "      <td>t3_lsi3a0</td>\n",
              "      <td>False</td>\n",
              "      <td>True</td>\n",
              "      <td>t1_gos6xhh</td>\n",
              "      <td>/r/amazonecho/comments/lsi3a0/excited_to_try_o...</td>\n",
              "      <td>1614461719</td>\n",
              "      <td>1</td>\n",
              "      <td>True</td>\n",
              "      <td>False</td>\n",
              "      <td>amazonecho</td>\n",
              "      <td>t5_34em3</td>\n",
              "      <td>NaN</td>\n",
              "      <td>0</td>\n",
              "      <td>[]</td>\n",
              "      <td>1614331793</td>\n",
              "      <td>NaN</td>\n",
              "      <td>None</td>\n",
              "      <td>NaN</td>\n",
              "    </tr>\n",
              "    <tr>\n",
              "      <th>2</th>\n",
              "      <td>[]</td>\n",
              "      <td>NaN</td>\n",
              "      <td>riveter91</td>\n",
              "      <td>None</td>\n",
              "      <td>None</td>\n",
              "      <td>[]</td>\n",
              "      <td>NaN</td>\n",
              "      <td>None</td>\n",
              "      <td>None</td>\n",
              "      <td>text</td>\n",
              "      <td>t2_5e44f0dd</td>\n",
              "      <td>0.0</td>\n",
              "      <td>0.0</td>\n",
              "      <td>[]</td>\n",
              "      <td>Are they reduced in Australia too?</td>\n",
              "      <td>NaN</td>\n",
              "      <td>NaN</td>\n",
              "      <td>1614311939</td>\n",
              "      <td>{}</td>\n",
              "      <td>gosjq1t</td>\n",
              "      <td>False</td>\n",
              "      <td>t3_lpw4no</td>\n",
              "      <td>False</td>\n",
              "      <td>True</td>\n",
              "      <td>t3_lpw4no</td>\n",
              "      <td>/r/amazonecho/comments/lpw4no/echo_show_8_and_...</td>\n",
              "      <td>1614460044</td>\n",
              "      <td>1</td>\n",
              "      <td>True</td>\n",
              "      <td>False</td>\n",
              "      <td>amazonecho</td>\n",
              "      <td>t5_34em3</td>\n",
              "      <td>NaN</td>\n",
              "      <td>0</td>\n",
              "      <td>[]</td>\n",
              "      <td>1614329939</td>\n",
              "      <td>NaN</td>\n",
              "      <td>None</td>\n",
              "      <td>NaN</td>\n",
              "    </tr>\n",
              "    <tr>\n",
              "      <th>3</th>\n",
              "      <td>[]</td>\n",
              "      <td>NaN</td>\n",
              "      <td>briangw</td>\n",
              "      <td>None</td>\n",
              "      <td>None</td>\n",
              "      <td>[]</td>\n",
              "      <td>NaN</td>\n",
              "      <td>None</td>\n",
              "      <td>None</td>\n",
              "      <td>text</td>\n",
              "      <td>t2_nlwnu</td>\n",
              "      <td>0.0</td>\n",
              "      <td>0.0</td>\n",
              "      <td>[]</td>\n",
              "      <td>Well, it’s still not working. I was just getti...</td>\n",
              "      <td>NaN</td>\n",
              "      <td>NaN</td>\n",
              "      <td>1614311802</td>\n",
              "      <td>{}</td>\n",
              "      <td>gosjhe2</td>\n",
              "      <td>True</td>\n",
              "      <td>t3_lppyow</td>\n",
              "      <td>False</td>\n",
              "      <td>True</td>\n",
              "      <td>t3_lppyow</td>\n",
              "      <td>/r/amazonecho/comments/lppyow/issue_between_my...</td>\n",
              "      <td>1614459924</td>\n",
              "      <td>1</td>\n",
              "      <td>True</td>\n",
              "      <td>False</td>\n",
              "      <td>amazonecho</td>\n",
              "      <td>t5_34em3</td>\n",
              "      <td>NaN</td>\n",
              "      <td>0</td>\n",
              "      <td>[]</td>\n",
              "      <td>1614329802</td>\n",
              "      <td>NaN</td>\n",
              "      <td>None</td>\n",
              "      <td>NaN</td>\n",
              "    </tr>\n",
              "    <tr>\n",
              "      <th>4</th>\n",
              "      <td>[]</td>\n",
              "      <td>NaN</td>\n",
              "      <td>[deleted]</td>\n",
              "      <td></td>\n",
              "      <td>None</td>\n",
              "      <td>None</td>\n",
              "      <td>NaN</td>\n",
              "      <td>None</td>\n",
              "      <td>dark</td>\n",
              "      <td>None</td>\n",
              "      <td>None</td>\n",
              "      <td>NaN</td>\n",
              "      <td>NaN</td>\n",
              "      <td>[]</td>\n",
              "      <td>[deleted]</td>\n",
              "      <td>NaN</td>\n",
              "      <td>NaN</td>\n",
              "      <td>1614311712</td>\n",
              "      <td>{}</td>\n",
              "      <td>gosjbnw</td>\n",
              "      <td>False</td>\n",
              "      <td>t3_lppyow</td>\n",
              "      <td>False</td>\n",
              "      <td>True</td>\n",
              "      <td>t1_god1bio</td>\n",
              "      <td>/r/amazonecho/comments/lppyow/issue_between_my...</td>\n",
              "      <td>1614459845</td>\n",
              "      <td>1</td>\n",
              "      <td>True</td>\n",
              "      <td>False</td>\n",
              "      <td>amazonecho</td>\n",
              "      <td>t5_34em3</td>\n",
              "      <td>NaN</td>\n",
              "      <td>0</td>\n",
              "      <td>[]</td>\n",
              "      <td>1614329712</td>\n",
              "      <td>NaN</td>\n",
              "      <td>None</td>\n",
              "      <td>NaN</td>\n",
              "    </tr>\n",
              "  </tbody>\n",
              "</table>\n",
              "</div>"
            ],
            "text/plain": [
              "  all_awardings associated_award  ... distinguished edited\n",
              "0            []              NaN  ...          None    NaN\n",
              "1            []              NaN  ...          None    NaN\n",
              "2            []              NaN  ...          None    NaN\n",
              "3            []              NaN  ...          None    NaN\n",
              "4            []              NaN  ...          None    NaN\n",
              "\n",
              "[5 rows x 39 columns]"
            ]
          },
          "metadata": {
            "tags": []
          },
          "execution_count": 51
        }
      ]
    },
    {
      "cell_type": "code",
      "metadata": {
        "colab": {
          "base_uri": "https://localhost:8080/"
        },
        "id": "SoK_-SMGQQ_j",
        "outputId": "fb50ca36-9edc-437e-9ca0-27b57c673182"
      },
      "source": [
        "df.info()"
      ],
      "execution_count": null,
      "outputs": [
        {
          "output_type": "stream",
          "text": [
            "<class 'pandas.core.frame.DataFrame'>\n",
            "Int64Index: 184489 entries, 0 to 46410\n",
            "Data columns (total 39 columns):\n",
            " #   Column                           Non-Null Count   Dtype  \n",
            "---  ------                           --------------   -----  \n",
            " 0   all_awardings                    184489 non-null  object \n",
            " 1   associated_award                 1 non-null       object \n",
            " 2   author                           184489 non-null  object \n",
            " 3   author_flair_background_color    8521 non-null    object \n",
            " 4   author_flair_css_class           3707 non-null    object \n",
            " 5   author_flair_richtext            182232 non-null  object \n",
            " 6   author_flair_template_id         6972 non-null    object \n",
            " 7   author_flair_text                7370 non-null    object \n",
            " 8   author_flair_text_color          10924 non-null   object \n",
            " 9   author_flair_type                182232 non-null  object \n",
            " 10  author_fullname                  182232 non-null  object \n",
            " 11  author_patreon_flair             182232 non-null  float64\n",
            " 12  author_premium                   182232 non-null  float64\n",
            " 13  awarders                         184489 non-null  object \n",
            " 14  body                             184489 non-null  object \n",
            " 15  collapsed_because_crowd_control  0 non-null       float64\n",
            " 16  comment_type                     0 non-null       float64\n",
            " 17  created_utc                      184489 non-null  int64  \n",
            " 18  gildings                         184489 non-null  object \n",
            " 19  id                               184489 non-null  object \n",
            " 20  is_submitter                     184489 non-null  bool   \n",
            " 21  link_id                          184489 non-null  object \n",
            " 22  locked                           184489 non-null  bool   \n",
            " 23  no_follow                        184489 non-null  bool   \n",
            " 24  parent_id                        184489 non-null  object \n",
            " 25  permalink                        184489 non-null  object \n",
            " 26  retrieved_on                     184489 non-null  int64  \n",
            " 27  score                            184489 non-null  int64  \n",
            " 28  send_replies                     184489 non-null  bool   \n",
            " 29  stickied                         184489 non-null  bool   \n",
            " 30  subreddit                        184489 non-null  object \n",
            " 31  subreddit_id                     184489 non-null  object \n",
            " 32  top_awarded_type                 0 non-null       float64\n",
            " 33  total_awards_received            184489 non-null  int64  \n",
            " 34  treatment_tags                   170347 non-null  object \n",
            " 35  created                          184489 non-null  int64  \n",
            " 36  author_cakeday                   672 non-null     float64\n",
            " 37  distinguished                    321 non-null     object \n",
            " 38  edited                           1388 non-null    float64\n",
            "dtypes: bool(5), float64(7), int64(5), object(22)\n",
            "memory usage: 50.1+ MB\n"
          ],
          "name": "stdout"
        }
      ]
    },
    {
      "cell_type": "code",
      "metadata": {
        "colab": {
          "base_uri": "https://localhost:8080/",
          "height": 80
        },
        "id": "c9W-x905oDSP",
        "outputId": "6439f29c-86e7-4557-cc5c-bbb29ce35198"
      },
      "source": [
        "df['all_awardings'].value_counts().to_frame()[:1]"
      ],
      "execution_count": null,
      "outputs": [
        {
          "output_type": "execute_result",
          "data": {
            "text/html": [
              "<div>\n",
              "<style scoped>\n",
              "    .dataframe tbody tr th:only-of-type {\n",
              "        vertical-align: middle;\n",
              "    }\n",
              "\n",
              "    .dataframe tbody tr th {\n",
              "        vertical-align: top;\n",
              "    }\n",
              "\n",
              "    .dataframe thead th {\n",
              "        text-align: right;\n",
              "    }\n",
              "</style>\n",
              "<table border=\"1\" class=\"dataframe\">\n",
              "  <thead>\n",
              "    <tr style=\"text-align: right;\">\n",
              "      <th></th>\n",
              "      <th>all_awardings</th>\n",
              "    </tr>\n",
              "  </thead>\n",
              "  <tbody>\n",
              "    <tr>\n",
              "      <th>[]</th>\n",
              "      <td>184404</td>\n",
              "    </tr>\n",
              "  </tbody>\n",
              "</table>\n",
              "</div>"
            ],
            "text/plain": [
              "    all_awardings\n",
              "[]         184404"
            ]
          },
          "metadata": {
            "tags": []
          },
          "execution_count": 53
        }
      ]
    },
    {
      "cell_type": "markdown",
      "metadata": {
        "id": "FoZ_CDVOqEDa"
      },
      "source": [
        "Only 85 rows have records in this column."
      ]
    },
    {
      "cell_type": "code",
      "metadata": {
        "colab": {
          "base_uri": "https://localhost:8080/"
        },
        "id": "UdQ5Hnjn2_7q",
        "outputId": "c12b73d5-9d40-4146-8c04-2aacdbdf2663"
      },
      "source": [
        "df.columns"
      ],
      "execution_count": null,
      "outputs": [
        {
          "output_type": "execute_result",
          "data": {
            "text/plain": [
              "Index(['all_awardings', 'associated_award', 'author',\n",
              "       'author_flair_background_color', 'author_flair_css_class',\n",
              "       'author_flair_richtext', 'author_flair_template_id',\n",
              "       'author_flair_text', 'author_flair_text_color', 'author_flair_type',\n",
              "       'author_fullname', 'author_patreon_flair', 'author_premium', 'awarders',\n",
              "       'body', 'collapsed_because_crowd_control', 'comment_type',\n",
              "       'created_utc', 'gildings', 'id', 'is_submitter', 'link_id', 'locked',\n",
              "       'no_follow', 'parent_id', 'permalink', 'retrieved_on', 'score',\n",
              "       'send_replies', 'stickied', 'subreddit', 'subreddit_id',\n",
              "       'top_awarded_type', 'total_awards_received', 'treatment_tags',\n",
              "       'created', 'author_cakeday', 'distinguished', 'edited'],\n",
              "      dtype='object')"
            ]
          },
          "metadata": {
            "tags": []
          },
          "execution_count": 57
        }
      ]
    },
    {
      "cell_type": "code",
      "metadata": {
        "colab": {
          "base_uri": "https://localhost:8080/"
        },
        "id": "0Kid3ssK2-e0",
        "outputId": "122daf5d-d09b-4d80-d1b4-17300d4aa586"
      },
      "source": [
        "cols = ['all_awardings', 'associated_award', \n",
        "       'author_flair_background_color', 'author_flair_css_class',\n",
        "       'author_flair_richtext', \n",
        "       'author_flair_text', 'author_flair_text_color', 'author_flair_type',\n",
        "       'author_patreon_flair', 'author_premium', 'awarders',\n",
        "       'collapsed_because_crowd_control', 'comment_type',\n",
        "       'gildings', 'is_submitter', 'locked',\n",
        "       'no_follow', 'score',\n",
        "       'send_replies', 'stickied', 'subreddit', \n",
        "       'top_awarded_type', 'total_awards_received', 'treatment_tags',\n",
        "       'author_cakeday', 'distinguished', 'edited'] \n",
        "for col in cols:\n",
        "  print(df[col].value_counts().to_frame())\n",
        "  print('Null Count: ', df[col].isna().sum())\n",
        "  print('--------------------------------------')"
      ],
      "execution_count": null,
      "outputs": [
        {
          "output_type": "stream",
          "text": [
            "                                                    all_awardings\n",
            "[]                                                         184404\n",
            "[{'award_sub_type': 'GLOBAL', 'award_type': 'gl...             11\n",
            "[{'award_sub_type': 'GLOBAL', 'award_type': 'gl...              8\n",
            "[{'award_sub_type': 'GLOBAL', 'award_type': 'gl...              5\n",
            "[{'award_sub_type': 'GLOBAL', 'award_type': 'gl...              5\n",
            "[{'award_sub_type': 'GLOBAL', 'award_type': 'gl...              3\n",
            "[{'award_sub_type': 'GLOBAL', 'award_type': 'gl...              3\n",
            "[{'award_sub_type': 'GLOBAL', 'award_type': 'gl...              3\n",
            "[{'award_sub_type': 'PREMIUM', 'award_type': 'g...              3\n",
            "[{'award_sub_type': 'GLOBAL', 'award_type': 'gl...              3\n",
            "[{'award_sub_type': 'GLOBAL', 'award_type': 'gl...              2\n",
            "[{'award_sub_type': 'GLOBAL', 'award_type': 'gl...              2\n",
            "[{'award_sub_type': 'GLOBAL', 'award_type': 'gl...              2\n",
            "[{'award_sub_type': 'GLOBAL', 'award_type': 'gl...              2\n",
            "[{'award_sub_type': 'GLOBAL', 'award_type': 'gl...              1\n",
            "[{'award_sub_type': 'GLOBAL', 'award_type': 'gl...              1\n",
            "[{'award_sub_type': 'GLOBAL', 'award_type': 'gl...              1\n",
            "[{'award_sub_type': 'GLOBAL', 'award_type': 'gl...              1\n",
            "[{'award_sub_type': 'GLOBAL', 'award_type': 'gl...              1\n",
            "[{'award_sub_type': 'GLOBAL', 'award_type': 'gl...              1\n",
            "[{'award_sub_type': 'GLOBAL', 'award_type': 'gl...              1\n",
            "[{'award_sub_type': 'GLOBAL', 'award_type': 'gl...              1\n",
            "[{'award_sub_type': 'GLOBAL', 'award_type': 'gl...              1\n",
            "[{'award_sub_type': 'GLOBAL', 'award_type': 'gl...              1\n",
            "[{'award_sub_type': 'GLOBAL', 'award_type': 'gl...              1\n",
            "[{'award_sub_type': 'GROUP', 'award_type': 'glo...              1\n",
            "[{'award_sub_type': 'GLOBAL', 'award_type': 'gl...              1\n",
            "[{'award_sub_type': 'GLOBAL', 'award_type': 'gl...              1\n",
            "[{'award_sub_type': 'GLOBAL', 'award_type': 'gl...              1\n",
            "[{'award_sub_type': 'GLOBAL', 'award_type': 'gl...              1\n",
            "[{'award_sub_type': 'GLOBAL', 'award_type': 'gl...              1\n",
            "[{'award_sub_type': 'GLOBAL', 'award_type': 'gl...              1\n",
            "[{'award_sub_type': 'GLOBAL', 'award_type': 'gl...              1\n",
            "[{'award_sub_type': 'GLOBAL', 'award_type': 'gl...              1\n",
            "[{'award_sub_type': 'PREMIUM', 'award_type': 'g...              1\n",
            "[{'award_sub_type': 'GLOBAL', 'award_type': 'gl...              1\n",
            "[{'award_sub_type': 'GLOBAL', 'award_type': 'gl...              1\n",
            "[{'award_sub_type': 'GLOBAL', 'award_type': 'gl...              1\n",
            "[{'award_sub_type': 'GLOBAL', 'award_type': 'gl...              1\n",
            "[{'award_sub_type': 'PREMIUM', 'award_type': 'g...              1\n",
            "[{'award_sub_type': 'GLOBAL', 'award_type': 'gl...              1\n",
            "[{'award_sub_type': 'GLOBAL', 'award_type': 'gl...              1\n",
            "[{'award_sub_type': 'GLOBAL', 'award_type': 'gl...              1\n",
            "[{'award_sub_type': 'GLOBAL', 'award_type': 'gl...              1\n",
            "[{'award_sub_type': 'GLOBAL', 'award_type': 'gl...              1\n",
            "[{'award_sub_type': 'GLOBAL', 'award_type': 'gl...              1\n",
            "[{'award_sub_type': 'PREMIUM', 'award_type': 'g...              1\n",
            "Null Count:  0\n",
            "--------------------------------------\n",
            "                                                    associated_award\n",
            "{'award_sub_type': 'GLOBAL', 'award_type': 'glo...                 1\n",
            "Null Count:  184488\n",
            "--------------------------------------\n",
            "         author_flair_background_color\n",
            "                                  3952\n",
            "#646d73                           2428\n",
            "#dadada                           1035\n",
            "#edeff1                            896\n",
            "#00e05f                             86\n",
            "#ddbd37                             62\n",
            "#ea0027                             62\n",
            "Null Count:  175968\n",
            "--------------------------------------\n",
            "           author_flair_css_class\n",
            "spacegray                    2428\n",
            "white                         896\n",
            "mod                           117\n",
            "green                          86\n",
            "gold                           62\n",
            "rule6                          62\n",
            "survey                         50\n",
            "dev                             6\n",
            "Null Count:  180782\n",
            "--------------------------------------\n",
            "                                                    author_flair_richtext\n",
            "[]                                                                 178698\n",
            "[{'a': ':homepod_spacegray:', 'e': 'emoji', 'u'...                   2302\n",
            "[{'a': ':homepod_white:', 'e': 'emoji', 'u': 'h...                    836\n",
            "[{'a': ':homepod_mini_spacegray:', 'e': 'emoji'...                    123\n",
            "[{'a': ':homepod_green:', 'e': 'emoji', 'u': 'h...                     86\n",
            "[{'a': ':homepod_gold:', 'e': 'emoji', 'u': 'ht...                     62\n",
            "[{'a': ':homepod_mini_spacegray:', 'e': 'emoji'...                     62\n",
            "[{'a': ':homepod_mini_white:', 'e': 'emoji', 'u...                     60\n",
            "[{'e': 'text', 't': ':homepod_spacegray: Space ...                      3\n",
            "Null Count:  2257\n",
            "--------------------------------------\n",
            "                                                    author_flair_text\n",
            ":homepod_spacegray: Space Gray                                   2305\n",
            ":homepod_white: White                                             836\n",
            "USA | 4 GHH | 2 Orig GH | 8 GNM | 3 CC |  Nest ...                500\n",
            "Google Home                                                       357\n",
            "Google Mini (1st Gen)                                             237\n",
            "...                                                               ...\n",
            "HA / ST | Hue | Insteon | Ring | GH                                 1\n",
            "Home | TPLink Kasa | Chromecast | Chromecast Audio                  1\n",
            "Galaxy S8+, Nexus 6P, Pixel C (RMA'd 2019), Gal...                  1\n",
            "SHIELD TV | Phillips Hue| GH Mini                                   1\n",
            "GHMx2 | Castx2 | Cast Audio | Wink | Hue | HA.io                    1\n",
            "\n",
            "[242 rows x 1 columns]\n",
            "Null Count:  177119\n",
            "--------------------------------------\n",
            "       author_flair_text_color\n",
            "dark                      7202\n",
            "light                     2490\n",
            "                          1232\n",
            "Null Count:  173565\n",
            "--------------------------------------\n",
            "          author_flair_type\n",
            "text                 178698\n",
            "richtext               3534\n",
            "Null Count:  2257\n",
            "--------------------------------------\n",
            "     author_patreon_flair\n",
            "0.0                182232\n",
            "Null Count:  2257\n",
            "--------------------------------------\n",
            "     author_premium\n",
            "0.0          172626\n",
            "1.0            9606\n",
            "Null Count:  2257\n",
            "--------------------------------------\n",
            "    awarders\n",
            "[]    184489\n",
            "Null Count:  0\n",
            "--------------------------------------\n",
            "Empty DataFrame\n",
            "Columns: [collapsed_because_crowd_control]\n",
            "Index: []\n",
            "Null Count:  184489\n",
            "--------------------------------------\n",
            "Empty DataFrame\n",
            "Columns: [comment_type]\n",
            "Index: []\n",
            "Null Count:  184489\n",
            "--------------------------------------\n",
            "                          gildings\n",
            "{}                          184462\n",
            "{'gid_1': 1}                    15\n",
            "{'gid_2': 1}                    11\n",
            "{'gid_1': 1, 'gid_2': 1}         1\n",
            "Null Count:  0\n",
            "--------------------------------------\n",
            "       is_submitter\n",
            "False        149597\n",
            "True          34892\n",
            "Null Count:  0\n",
            "--------------------------------------\n",
            "       locked\n",
            "False  184489\n",
            "Null Count:  0\n",
            "--------------------------------------\n",
            "       no_follow\n",
            "True      171760\n",
            "False      12729\n",
            "Null Count:  0\n",
            "--------------------------------------\n",
            "      score\n",
            "1    146204\n",
            "2     20907\n",
            "3      5667\n",
            "0      2976\n",
            "4      1889\n",
            "..      ...\n",
            "99        1\n",
            "181       1\n",
            "100       1\n",
            "55        1\n",
            "92        1\n",
            "\n",
            "[157 rows x 1 columns]\n",
            "Null Count:  0\n",
            "--------------------------------------\n",
            "       send_replies\n",
            "True         184221\n",
            "False           268\n",
            "Null Count:  0\n",
            "--------------------------------------\n",
            "       stickied\n",
            "False    184455\n",
            "True         34\n",
            "Null Count:  0\n",
            "--------------------------------------\n",
            "            subreddit\n",
            "googlehome      99101\n",
            "HomePod         46411\n",
            "amazonecho      38977\n",
            "Null Count:  0\n",
            "--------------------------------------\n",
            "Empty DataFrame\n",
            "Columns: [top_awarded_type]\n",
            "Index: []\n",
            "Null Count:  184489\n",
            "--------------------------------------\n",
            "   total_awards_received\n",
            "0                 184404\n",
            "1                     77\n",
            "2                      6\n",
            "4                      2\n",
            "Null Count:  0\n",
            "--------------------------------------\n",
            "    treatment_tags\n",
            "[]          170347\n",
            "Null Count:  14142\n",
            "--------------------------------------\n",
            "     author_cakeday\n",
            "1.0             672\n",
            "Null Count:  183817\n",
            "--------------------------------------\n",
            "           distinguished\n",
            "moderator            321\n",
            "Null Count:  184168\n",
            "--------------------------------------\n",
            "              edited\n",
            "1.601524e+09       1\n",
            "1.589597e+09       1\n",
            "1.589516e+09       1\n",
            "1.589559e+09       1\n",
            "1.589562e+09       1\n",
            "...              ...\n",
            "1.598071e+09       1\n",
            "1.598082e+09       1\n",
            "1.598110e+09       1\n",
            "1.598118e+09       1\n",
            "1.601492e+09       1\n",
            "\n",
            "[1388 rows x 1 columns]\n",
            "Null Count:  183101\n",
            "--------------------------------------\n"
          ],
          "name": "stdout"
        }
      ]
    },
    {
      "cell_type": "code",
      "metadata": {
        "id": "-5JV1xR_qOy9"
      },
      "source": [
        "df = df.drop(['author_patreon_flair','awarders','collapsed_because_crowd_control',\n",
        "                'comment_type','top_awarded_type','treatment_tags','author_cakeday',\n",
        "                'distinguished'],axis=1)"
      ],
      "execution_count": null,
      "outputs": []
    },
    {
      "cell_type": "code",
      "metadata": {
        "colab": {
          "base_uri": "https://localhost:8080/"
        },
        "id": "OdmXH3eB6PqQ",
        "outputId": "500af0e9-9638-4adb-f760-da22253bfd8c"
      },
      "source": [
        "# columns with spaces\n",
        "print((df['author_flair_background_color'] == '').sum())\n",
        "print((df['author_flair_text_color'] == '').sum())"
      ],
      "execution_count": null,
      "outputs": [
        {
          "output_type": "stream",
          "text": [
            "3952\n",
            "1232\n"
          ],
          "name": "stdout"
        }
      ]
    },
    {
      "cell_type": "code",
      "metadata": {
        "colab": {
          "base_uri": "https://localhost:8080/"
        },
        "id": "auGtbiWr7ylD",
        "outputId": "cdc56f0d-9a69-4d74-db12-222c00a8d703"
      },
      "source": [
        "df.info()"
      ],
      "execution_count": null,
      "outputs": [
        {
          "output_type": "stream",
          "text": [
            "<class 'pandas.core.frame.DataFrame'>\n",
            "Int64Index: 184489 entries, 0 to 46410\n",
            "Data columns (total 31 columns):\n",
            " #   Column                         Non-Null Count   Dtype  \n",
            "---  ------                         --------------   -----  \n",
            " 0   all_awardings                  184489 non-null  object \n",
            " 1   associated_award               1 non-null       object \n",
            " 2   author                         184489 non-null  object \n",
            " 3   author_flair_background_color  8521 non-null    object \n",
            " 4   author_flair_css_class         3707 non-null    object \n",
            " 5   author_flair_richtext          182232 non-null  object \n",
            " 6   author_flair_template_id       6972 non-null    object \n",
            " 7   author_flair_text              7370 non-null    object \n",
            " 8   author_flair_text_color        10924 non-null   object \n",
            " 9   author_flair_type              182232 non-null  object \n",
            " 10  author_fullname                182232 non-null  object \n",
            " 11  author_premium                 182232 non-null  float64\n",
            " 12  body                           184489 non-null  object \n",
            " 13  created_utc                    184489 non-null  int64  \n",
            " 14  gildings                       184489 non-null  object \n",
            " 15  id                             184489 non-null  object \n",
            " 16  is_submitter                   184489 non-null  bool   \n",
            " 17  link_id                        184489 non-null  object \n",
            " 18  locked                         184489 non-null  bool   \n",
            " 19  no_follow                      184489 non-null  bool   \n",
            " 20  parent_id                      184489 non-null  object \n",
            " 21  permalink                      184489 non-null  object \n",
            " 22  retrieved_on                   184489 non-null  int64  \n",
            " 23  score                          184489 non-null  int64  \n",
            " 24  send_replies                   184489 non-null  bool   \n",
            " 25  stickied                       184489 non-null  bool   \n",
            " 26  subreddit                      184489 non-null  object \n",
            " 27  subreddit_id                   184489 non-null  object \n",
            " 28  total_awards_received          184489 non-null  int64  \n",
            " 29  created                        184489 non-null  int64  \n",
            " 30  edited                         1388 non-null    float64\n",
            "dtypes: bool(5), float64(2), int64(5), object(19)\n",
            "memory usage: 38.9+ MB\n"
          ],
          "name": "stdout"
        }
      ]
    },
    {
      "cell_type": "code",
      "metadata": {
        "colab": {
          "base_uri": "https://localhost:8080/"
        },
        "id": "lO7q-9Fd9GD8",
        "outputId": "76cf5fcf-957b-4828-d565-3c479125754e"
      },
      "source": [
        "(df['body']=='[deleted]').sum()"
      ],
      "execution_count": null,
      "outputs": [
        {
          "output_type": "execute_result",
          "data": {
            "text/plain": [
              "1642"
            ]
          },
          "metadata": {
            "tags": []
          },
          "execution_count": 73
        }
      ]
    },
    {
      "cell_type": "code",
      "metadata": {
        "id": "e2eCpXEC9YIN"
      },
      "source": [
        "text = df.loc[df['body']!='[deleted]','body']"
      ],
      "execution_count": null,
      "outputs": []
    },
    {
      "cell_type": "code",
      "metadata": {
        "colab": {
          "base_uri": "https://localhost:8080/",
          "height": 86
        },
        "id": "rktM6oyuJRNM",
        "outputId": "fb3173be-33aa-4ce5-9e6a-5f0edf49b126"
      },
      "source": [
        "text[3]"
      ],
      "execution_count": null,
      "outputs": [
        {
          "output_type": "execute_result",
          "data": {
            "application/vnd.google.colaboratory.intrinsic+json": {
              "type": "string"
            },
            "text/plain": [
              "'Well, it’s still not working. I was just getting home and Spotify in my phone stopped and I saw it switched to my daughter’s Echo. I switched it back to my Amazon Auto and seconds later it switched back to hers with a different song. So I went to her room and asked the Dot what account was being used and it said hers. \\n\\nSo I’m at a loss. The only other thing I can think of is that because she is ten, she has to have Spotify kids. Maybe there is some restriction there. Any other ideas?'"
            ]
          },
          "metadata": {
            "tags": []
          },
          "execution_count": 105
        }
      ]
    },
    {
      "cell_type": "code",
      "metadata": {
        "colab": {
          "base_uri": "https://localhost:8080/"
        },
        "id": "6TYnO9hQI3-L",
        "outputId": "fefeba87-07b1-464c-a360-1fd88a1a0a1b"
      },
      "source": [
        "import gensim\n",
        "from gensim import corpora\n",
        "from gensim.utils import simple_preprocess\n",
        "from gensim.models import CoherenceModel\n",
        "\n",
        "import nltk\n",
        "from nltk.corpus import stopwords \n",
        "#from nltk.tokenize import word_tokenize\n",
        "from nltk.tokenize import sent_tokenize \n",
        "nltk.download('punkt')\n",
        "nltk.download('averaged_perceptron_tagger')\n",
        "nltk.download('stopwords')"
      ],
      "execution_count": null,
      "outputs": [
        {
          "output_type": "stream",
          "text": [
            "[nltk_data] Downloading package punkt to /root/nltk_data...\n",
            "[nltk_data]   Unzipping tokenizers/punkt.zip.\n",
            "[nltk_data] Downloading package averaged_perceptron_tagger to\n",
            "[nltk_data]     /root/nltk_data...\n",
            "[nltk_data]   Unzipping taggers/averaged_perceptron_tagger.zip.\n",
            "[nltk_data] Downloading package stopwords to /root/nltk_data...\n",
            "[nltk_data]   Unzipping corpora/stopwords.zip.\n"
          ],
          "name": "stdout"
        },
        {
          "output_type": "execute_result",
          "data": {
            "text/plain": [
              "True"
            ]
          },
          "metadata": {
            "tags": []
          },
          "execution_count": 88
        }
      ]
    },
    {
      "cell_type": "code",
      "metadata": {
        "colab": {
          "base_uri": "https://localhost:8080/"
        },
        "id": "cLwFgka2IlFg",
        "outputId": "e942437b-533f-4888-b665-113868cc03af"
      },
      "source": [
        "def sent_to_words(sentences):\n",
        "    for sentence in sentences:\n",
        "        yield(gensim.utils.simple_preprocess(str(sentence), deacc=True))  # deacc=True removes punctuations\n",
        "\n",
        "def remove_stopwords(texts):\n",
        "    return [[word for word in simple_preprocess(str(doc)) if word not in stop_words] for doc in texts]\n",
        "\n",
        "stop_words = stopwords.words('english')\n",
        "sentences=sent_tokenize(text[3])\n",
        "\n",
        "data_words = list(sent_to_words(sentences))\n",
        "data_words_nostops = remove_stopwords(data_words)\n",
        "\n",
        "dictionary = corpora.Dictionary(data_words_nostops)\n",
        "corpus = [dictionary.doc2bow(text) for text in data_words_nostops]\n",
        "\n",
        "NUM_TOPICS = 1\n",
        "ldamodel = gensim.models.ldamodel.LdaModel(corpus, num_topics = NUM_TOPICS, id2word=dictionary, passes=15)\n",
        "print(\"ldamodel is built\")\n",
        "#ldamodel.save('model5.gensim')\n",
        "topics = ldamodel.print_topics(num_words=1)\n",
        "for topic in topics:\n",
        "    print(topic)"
      ],
      "execution_count": null,
      "outputs": [
        {
          "output_type": "stream",
          "text": [
            "ldamodel is built\n",
            "(0, '0.056*\"switched\"')\n"
          ],
          "name": "stdout"
        }
      ]
    },
    {
      "cell_type": "code",
      "metadata": {
        "colab": {
          "base_uri": "https://localhost:8080/"
        },
        "id": "Ic4omUCWMGZe",
        "outputId": "bad4cd51-5b82-473a-bc1f-cf08ef522220"
      },
      "source": [
        "model = gensim.models.Word2Vec(data_words_nostops, min_count=1)\n",
        "print(model.most_similar(\"switched\", topn=10))"
      ],
      "execution_count": null,
      "outputs": [
        {
          "output_type": "stream",
          "text": [
            "[('account', 0.18316441774368286), ('said', 0.1680547446012497), ('kids', 0.15384265780448914), ('dot', 0.14991796016693115), ('still', 0.10650426149368286), ('daughter', 0.09343045949935913), ('echo', 0.073850616812706), ('getting', 0.05857015773653984), ('maybe', 0.024675710126757622), ('later', 0.022150661796331406)]\n"
          ],
          "name": "stdout"
        },
        {
          "output_type": "stream",
          "text": [
            "/usr/local/lib/python3.7/dist-packages/ipykernel_launcher.py:2: DeprecationWarning: Call to deprecated `most_similar` (Method will be removed in 4.0.0, use self.wv.most_similar() instead).\n",
            "  \n"
          ],
          "name": "stderr"
        }
      ]
    },
    {
      "cell_type": "markdown",
      "metadata": {
        "id": "cFFVQTw9-Ybk"
      },
      "source": [
        "## Stock Prices"
      ]
    },
    {
      "cell_type": "code",
      "metadata": {
        "id": "zeXHy8dF9mEh"
      },
      "source": [
        "path2 = ['/content/drive/MyDrive/Project_Spring2021/StockPrices_marketwatch/AAPL.csv',\n",
        "         '/content/drive/MyDrive/Project_Spring2021/StockPrices_marketwatch/AMZN.csv',\n",
        "         '/content/drive/MyDrive/Project_Spring2021/StockPrices_marketwatch/GME.csv',\n",
        "         '/content/drive/MyDrive/Project_Spring2021/StockPrices_marketwatch/GOOG.csv']\n",
        "aapl = pd.read_csv(path2[0])\n",
        "amzn = pd.read_csv(path2[1])\n",
        "gme = pd.read_csv(path2[2])\n",
        "goog = pd.read_csv(path2[3])"
      ],
      "execution_count": null,
      "outputs": []
    },
    {
      "cell_type": "code",
      "metadata": {
        "colab": {
          "base_uri": "https://localhost:8080/",
          "height": 204
        },
        "id": "Th6H5Lwn-Zo1",
        "outputId": "25fae9e1-38fc-4748-8609-38d31a65827a"
      },
      "source": [
        "aapl.head()"
      ],
      "execution_count": null,
      "outputs": [
        {
          "output_type": "execute_result",
          "data": {
            "text/html": [
              "<div>\n",
              "<style scoped>\n",
              "    .dataframe tbody tr th:only-of-type {\n",
              "        vertical-align: middle;\n",
              "    }\n",
              "\n",
              "    .dataframe tbody tr th {\n",
              "        vertical-align: top;\n",
              "    }\n",
              "\n",
              "    .dataframe thead th {\n",
              "        text-align: right;\n",
              "    }\n",
              "</style>\n",
              "<table border=\"1\" class=\"dataframe\">\n",
              "  <thead>\n",
              "    <tr style=\"text-align: right;\">\n",
              "      <th></th>\n",
              "      <th>Date</th>\n",
              "      <th>Open</th>\n",
              "      <th>High</th>\n",
              "      <th>Low</th>\n",
              "      <th>Close</th>\n",
              "      <th>Adj Close</th>\n",
              "      <th>Volume</th>\n",
              "    </tr>\n",
              "  </thead>\n",
              "  <tbody>\n",
              "    <tr>\n",
              "      <th>0</th>\n",
              "      <td>2020-02-27</td>\n",
              "      <td>70.275002</td>\n",
              "      <td>71.500000</td>\n",
              "      <td>68.239998</td>\n",
              "      <td>68.379997</td>\n",
              "      <td>67.854019</td>\n",
              "      <td>320605600</td>\n",
              "    </tr>\n",
              "    <tr>\n",
              "      <th>1</th>\n",
              "      <td>2020-02-28</td>\n",
              "      <td>64.315002</td>\n",
              "      <td>69.602501</td>\n",
              "      <td>64.092499</td>\n",
              "      <td>68.339996</td>\n",
              "      <td>67.814331</td>\n",
              "      <td>426884800</td>\n",
              "    </tr>\n",
              "    <tr>\n",
              "      <th>2</th>\n",
              "      <td>2020-03-02</td>\n",
              "      <td>70.570000</td>\n",
              "      <td>75.360001</td>\n",
              "      <td>69.430000</td>\n",
              "      <td>74.702499</td>\n",
              "      <td>74.127892</td>\n",
              "      <td>341397200</td>\n",
              "    </tr>\n",
              "    <tr>\n",
              "      <th>3</th>\n",
              "      <td>2020-03-03</td>\n",
              "      <td>75.917503</td>\n",
              "      <td>76.000000</td>\n",
              "      <td>71.449997</td>\n",
              "      <td>72.330002</td>\n",
              "      <td>71.773636</td>\n",
              "      <td>319475600</td>\n",
              "    </tr>\n",
              "    <tr>\n",
              "      <th>4</th>\n",
              "      <td>2020-03-04</td>\n",
              "      <td>74.110001</td>\n",
              "      <td>75.849998</td>\n",
              "      <td>73.282501</td>\n",
              "      <td>75.684998</td>\n",
              "      <td>75.102829</td>\n",
              "      <td>219178400</td>\n",
              "    </tr>\n",
              "  </tbody>\n",
              "</table>\n",
              "</div>"
            ],
            "text/plain": [
              "         Date       Open       High        Low      Close  Adj Close     Volume\n",
              "0  2020-02-27  70.275002  71.500000  68.239998  68.379997  67.854019  320605600\n",
              "1  2020-02-28  64.315002  69.602501  64.092499  68.339996  67.814331  426884800\n",
              "2  2020-03-02  70.570000  75.360001  69.430000  74.702499  74.127892  341397200\n",
              "3  2020-03-03  75.917503  76.000000  71.449997  72.330002  71.773636  319475600\n",
              "4  2020-03-04  74.110001  75.849998  73.282501  75.684998  75.102829  219178400"
            ]
          },
          "metadata": {
            "tags": []
          },
          "execution_count": 76
        }
      ]
    },
    {
      "cell_type": "code",
      "metadata": {
        "colab": {
          "base_uri": "https://localhost:8080/",
          "height": 204
        },
        "id": "EhVFIKZY-f7d",
        "outputId": "127ba34e-317b-4fe5-c17e-2637ee46e4c2"
      },
      "source": [
        "amzn.head()"
      ],
      "execution_count": null,
      "outputs": [
        {
          "output_type": "execute_result",
          "data": {
            "text/html": [
              "<div>\n",
              "<style scoped>\n",
              "    .dataframe tbody tr th:only-of-type {\n",
              "        vertical-align: middle;\n",
              "    }\n",
              "\n",
              "    .dataframe tbody tr th {\n",
              "        vertical-align: top;\n",
              "    }\n",
              "\n",
              "    .dataframe thead th {\n",
              "        text-align: right;\n",
              "    }\n",
              "</style>\n",
              "<table border=\"1\" class=\"dataframe\">\n",
              "  <thead>\n",
              "    <tr style=\"text-align: right;\">\n",
              "      <th></th>\n",
              "      <th>Date</th>\n",
              "      <th>Open</th>\n",
              "      <th>High</th>\n",
              "      <th>Low</th>\n",
              "      <th>Close</th>\n",
              "      <th>Adj Close</th>\n",
              "      <th>Volume</th>\n",
              "    </tr>\n",
              "  </thead>\n",
              "  <tbody>\n",
              "    <tr>\n",
              "      <th>0</th>\n",
              "      <td>2020-02-27</td>\n",
              "      <td>1934.380005</td>\n",
              "      <td>1975.000000</td>\n",
              "      <td>1882.760010</td>\n",
              "      <td>1884.300049</td>\n",
              "      <td>1884.300049</td>\n",
              "      <td>8144000</td>\n",
              "    </tr>\n",
              "    <tr>\n",
              "      <th>1</th>\n",
              "      <td>2020-02-28</td>\n",
              "      <td>1814.630005</td>\n",
              "      <td>1889.760010</td>\n",
              "      <td>1811.130005</td>\n",
              "      <td>1883.750000</td>\n",
              "      <td>1883.750000</td>\n",
              "      <td>9493800</td>\n",
              "    </tr>\n",
              "    <tr>\n",
              "      <th>2</th>\n",
              "      <td>2020-03-02</td>\n",
              "      <td>1906.489990</td>\n",
              "      <td>1954.510010</td>\n",
              "      <td>1870.000000</td>\n",
              "      <td>1953.949951</td>\n",
              "      <td>1953.949951</td>\n",
              "      <td>6761700</td>\n",
              "    </tr>\n",
              "    <tr>\n",
              "      <th>3</th>\n",
              "      <td>2020-03-03</td>\n",
              "      <td>1975.369995</td>\n",
              "      <td>1996.329956</td>\n",
              "      <td>1888.089966</td>\n",
              "      <td>1908.989990</td>\n",
              "      <td>1908.989990</td>\n",
              "      <td>7534500</td>\n",
              "    </tr>\n",
              "    <tr>\n",
              "      <th>4</th>\n",
              "      <td>2020-03-04</td>\n",
              "      <td>1946.569946</td>\n",
              "      <td>1978.000000</td>\n",
              "      <td>1922.000000</td>\n",
              "      <td>1975.829956</td>\n",
              "      <td>1975.829956</td>\n",
              "      <td>4772900</td>\n",
              "    </tr>\n",
              "  </tbody>\n",
              "</table>\n",
              "</div>"
            ],
            "text/plain": [
              "         Date         Open         High  ...        Close    Adj Close   Volume\n",
              "0  2020-02-27  1934.380005  1975.000000  ...  1884.300049  1884.300049  8144000\n",
              "1  2020-02-28  1814.630005  1889.760010  ...  1883.750000  1883.750000  9493800\n",
              "2  2020-03-02  1906.489990  1954.510010  ...  1953.949951  1953.949951  6761700\n",
              "3  2020-03-03  1975.369995  1996.329956  ...  1908.989990  1908.989990  7534500\n",
              "4  2020-03-04  1946.569946  1978.000000  ...  1975.829956  1975.829956  4772900\n",
              "\n",
              "[5 rows x 7 columns]"
            ]
          },
          "metadata": {
            "tags": []
          },
          "execution_count": 77
        }
      ]
    },
    {
      "cell_type": "code",
      "metadata": {
        "colab": {
          "base_uri": "https://localhost:8080/",
          "height": 204
        },
        "id": "aHztU8bm-iaD",
        "outputId": "27d0abf8-1701-4ae9-cf99-6e14cd76bffd"
      },
      "source": [
        "gme.head()"
      ],
      "execution_count": null,
      "outputs": [
        {
          "output_type": "execute_result",
          "data": {
            "text/html": [
              "<div>\n",
              "<style scoped>\n",
              "    .dataframe tbody tr th:only-of-type {\n",
              "        vertical-align: middle;\n",
              "    }\n",
              "\n",
              "    .dataframe tbody tr th {\n",
              "        vertical-align: top;\n",
              "    }\n",
              "\n",
              "    .dataframe thead th {\n",
              "        text-align: right;\n",
              "    }\n",
              "</style>\n",
              "<table border=\"1\" class=\"dataframe\">\n",
              "  <thead>\n",
              "    <tr style=\"text-align: right;\">\n",
              "      <th></th>\n",
              "      <th>Date</th>\n",
              "      <th>Open</th>\n",
              "      <th>High</th>\n",
              "      <th>Low</th>\n",
              "      <th>Close</th>\n",
              "      <th>Adj Close</th>\n",
              "      <th>Volume</th>\n",
              "    </tr>\n",
              "  </thead>\n",
              "  <tbody>\n",
              "    <tr>\n",
              "      <th>0</th>\n",
              "      <td>2020-02-27</td>\n",
              "      <td>3.23</td>\n",
              "      <td>3.63</td>\n",
              "      <td>3.18</td>\n",
              "      <td>3.47</td>\n",
              "      <td>3.47</td>\n",
              "      <td>3879500</td>\n",
              "    </tr>\n",
              "    <tr>\n",
              "      <th>1</th>\n",
              "      <td>2020-02-28</td>\n",
              "      <td>3.34</td>\n",
              "      <td>3.72</td>\n",
              "      <td>3.34</td>\n",
              "      <td>3.60</td>\n",
              "      <td>3.60</td>\n",
              "      <td>4692200</td>\n",
              "    </tr>\n",
              "    <tr>\n",
              "      <th>2</th>\n",
              "      <td>2020-03-02</td>\n",
              "      <td>3.60</td>\n",
              "      <td>3.85</td>\n",
              "      <td>3.39</td>\n",
              "      <td>3.83</td>\n",
              "      <td>3.83</td>\n",
              "      <td>3208400</td>\n",
              "    </tr>\n",
              "    <tr>\n",
              "      <th>3</th>\n",
              "      <td>2020-03-03</td>\n",
              "      <td>3.88</td>\n",
              "      <td>3.89</td>\n",
              "      <td>3.50</td>\n",
              "      <td>3.63</td>\n",
              "      <td>3.63</td>\n",
              "      <td>4282500</td>\n",
              "    </tr>\n",
              "    <tr>\n",
              "      <th>4</th>\n",
              "      <td>2020-03-04</td>\n",
              "      <td>3.71</td>\n",
              "      <td>3.83</td>\n",
              "      <td>3.46</td>\n",
              "      <td>3.77</td>\n",
              "      <td>3.77</td>\n",
              "      <td>4257600</td>\n",
              "    </tr>\n",
              "  </tbody>\n",
              "</table>\n",
              "</div>"
            ],
            "text/plain": [
              "         Date  Open  High   Low  Close  Adj Close   Volume\n",
              "0  2020-02-27  3.23  3.63  3.18   3.47       3.47  3879500\n",
              "1  2020-02-28  3.34  3.72  3.34   3.60       3.60  4692200\n",
              "2  2020-03-02  3.60  3.85  3.39   3.83       3.83  3208400\n",
              "3  2020-03-03  3.88  3.89  3.50   3.63       3.63  4282500\n",
              "4  2020-03-04  3.71  3.83  3.46   3.77       3.77  4257600"
            ]
          },
          "metadata": {
            "tags": []
          },
          "execution_count": 78
        }
      ]
    },
    {
      "cell_type": "code",
      "metadata": {
        "colab": {
          "base_uri": "https://localhost:8080/",
          "height": 204
        },
        "id": "2Nknyeso-mBE",
        "outputId": "1f9a8868-17bd-4112-c178-ffe9d8a8043b"
      },
      "source": [
        "goog.head()"
      ],
      "execution_count": null,
      "outputs": [
        {
          "output_type": "execute_result",
          "data": {
            "text/html": [
              "<div>\n",
              "<style scoped>\n",
              "    .dataframe tbody tr th:only-of-type {\n",
              "        vertical-align: middle;\n",
              "    }\n",
              "\n",
              "    .dataframe tbody tr th {\n",
              "        vertical-align: top;\n",
              "    }\n",
              "\n",
              "    .dataframe thead th {\n",
              "        text-align: right;\n",
              "    }\n",
              "</style>\n",
              "<table border=\"1\" class=\"dataframe\">\n",
              "  <thead>\n",
              "    <tr style=\"text-align: right;\">\n",
              "      <th></th>\n",
              "      <th>Date</th>\n",
              "      <th>Open</th>\n",
              "      <th>High</th>\n",
              "      <th>Low</th>\n",
              "      <th>Close</th>\n",
              "      <th>Adj Close</th>\n",
              "      <th>Volume</th>\n",
              "    </tr>\n",
              "  </thead>\n",
              "  <tbody>\n",
              "    <tr>\n",
              "      <th>0</th>\n",
              "      <td>2020-02-27</td>\n",
              "      <td>1362.060059</td>\n",
              "      <td>1371.703979</td>\n",
              "      <td>1317.170044</td>\n",
              "      <td>1318.089966</td>\n",
              "      <td>1318.089966</td>\n",
              "      <td>2978300</td>\n",
              "    </tr>\n",
              "    <tr>\n",
              "      <th>1</th>\n",
              "      <td>2020-02-28</td>\n",
              "      <td>1277.500000</td>\n",
              "      <td>1341.140015</td>\n",
              "      <td>1271.000000</td>\n",
              "      <td>1339.329956</td>\n",
              "      <td>1339.329956</td>\n",
              "      <td>3789100</td>\n",
              "    </tr>\n",
              "    <tr>\n",
              "      <th>2</th>\n",
              "      <td>2020-03-02</td>\n",
              "      <td>1351.609985</td>\n",
              "      <td>1390.869995</td>\n",
              "      <td>1326.814941</td>\n",
              "      <td>1389.109985</td>\n",
              "      <td>1389.109985</td>\n",
              "      <td>2431500</td>\n",
              "    </tr>\n",
              "    <tr>\n",
              "      <th>3</th>\n",
              "      <td>2020-03-03</td>\n",
              "      <td>1399.420044</td>\n",
              "      <td>1410.150024</td>\n",
              "      <td>1332.000000</td>\n",
              "      <td>1341.390015</td>\n",
              "      <td>1341.390015</td>\n",
              "      <td>2402300</td>\n",
              "    </tr>\n",
              "    <tr>\n",
              "      <th>4</th>\n",
              "      <td>2020-03-04</td>\n",
              "      <td>1359.229980</td>\n",
              "      <td>1388.089966</td>\n",
              "      <td>1343.109985</td>\n",
              "      <td>1386.520020</td>\n",
              "      <td>1386.520020</td>\n",
              "      <td>1913300</td>\n",
              "    </tr>\n",
              "  </tbody>\n",
              "</table>\n",
              "</div>"
            ],
            "text/plain": [
              "         Date         Open         High  ...        Close    Adj Close   Volume\n",
              "0  2020-02-27  1362.060059  1371.703979  ...  1318.089966  1318.089966  2978300\n",
              "1  2020-02-28  1277.500000  1341.140015  ...  1339.329956  1339.329956  3789100\n",
              "2  2020-03-02  1351.609985  1390.869995  ...  1389.109985  1389.109985  2431500\n",
              "3  2020-03-03  1399.420044  1410.150024  ...  1341.390015  1341.390015  2402300\n",
              "4  2020-03-04  1359.229980  1388.089966  ...  1386.520020  1386.520020  1913300\n",
              "\n",
              "[5 rows x 7 columns]"
            ]
          },
          "metadata": {
            "tags": []
          },
          "execution_count": 79
        }
      ]
    }
  ]
}