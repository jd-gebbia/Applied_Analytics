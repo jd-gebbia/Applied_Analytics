{
  "nbformat": 4,
  "nbformat_minor": 0,
  "metadata": {
    "colab": {
      "name": "AppAnalytics_Case2.ipynb",
      "provenance": [],
      "collapsed_sections": []
    },
    "kernelspec": {
      "name": "python3",
      "display_name": "Python 3"
    }
  },
  "cells": [
    {
      "cell_type": "code",
      "metadata": {
        "id": "jPqMcC4hnWkO",
        "colab": {
          "base_uri": "https://localhost:8080/"
        },
        "outputId": "9f06b2e1-b849-448d-ac50-2f194e555358"
      },
      "source": [
        "import pandas as pd\r\n",
        "import numpy as np\r\n",
        "import seaborn as sns\r\n",
        "import sklearn\r\n",
        "import matplotlib as plt\r\n",
        "from matplotlib import pyplot\r\n",
        "!pip install geopandas\r\n",
        "import geopandas\r\n",
        "! pip install pycountry\r\n",
        "import pycountry \r\n",
        "!pip install contextily\r\n",
        "import contextily as ctx\r\n"
      ],
      "execution_count": 2,
      "outputs": [
        {
          "output_type": "stream",
          "text": [
            "Collecting geopandas\n",
            "\u001b[?25l  Downloading https://files.pythonhosted.org/packages/2a/9f/e8a440a993e024c0d3d4e5c7d3346367c50c9a1a3d735caf5ee3bde0aab1/geopandas-0.8.2-py2.py3-none-any.whl (962kB)\n",
            "\u001b[K     |████████████████████████████████| 972kB 5.8MB/s \n",
            "\u001b[?25hCollecting fiona\n",
            "\u001b[?25l  Downloading https://files.pythonhosted.org/packages/47/c2/67d1d0acbaaee3b03e5e22e3b96c33219cb5dd392531c9ff9cee7c2eb3e4/Fiona-1.8.18-cp37-cp37m-manylinux1_x86_64.whl (14.8MB)\n",
            "\u001b[K     |████████████████████████████████| 14.8MB 263kB/s \n",
            "\u001b[?25hRequirement already satisfied: pandas>=0.23.0 in /usr/local/lib/python3.7/dist-packages (from geopandas) (1.1.5)\n",
            "Requirement already satisfied: shapely in /usr/local/lib/python3.7/dist-packages (from geopandas) (1.7.1)\n",
            "Collecting pyproj>=2.2.0\n",
            "\u001b[?25l  Downloading https://files.pythonhosted.org/packages/05/0c/d7c2c7c370ea5368b813a44e772247ed1a461dc47de70c5d02e079abc7e0/pyproj-3.0.0.post1-cp37-cp37m-manylinux2010_x86_64.whl (6.4MB)\n",
            "\u001b[K     |████████████████████████████████| 6.5MB 50.3MB/s \n",
            "\u001b[?25hRequirement already satisfied: certifi in /usr/local/lib/python3.7/dist-packages (from fiona->geopandas) (2020.12.5)\n",
            "Requirement already satisfied: click<8,>=4.0 in /usr/local/lib/python3.7/dist-packages (from fiona->geopandas) (7.1.2)\n",
            "Requirement already satisfied: six>=1.7 in /usr/local/lib/python3.7/dist-packages (from fiona->geopandas) (1.15.0)\n",
            "Collecting click-plugins>=1.0\n",
            "  Downloading https://files.pythonhosted.org/packages/e9/da/824b92d9942f4e472702488857914bdd50f73021efea15b4cad9aca8ecef/click_plugins-1.1.1-py2.py3-none-any.whl\n",
            "Collecting cligj>=0.5\n",
            "  Downloading https://files.pythonhosted.org/packages/42/1e/947eadf10d6804bf276eb8a038bd5307996dceaaa41cfd21b7a15ec62f5d/cligj-0.7.1-py3-none-any.whl\n",
            "Collecting munch\n",
            "  Downloading https://files.pythonhosted.org/packages/cc/ab/85d8da5c9a45e072301beb37ad7f833cd344e04c817d97e0cc75681d248f/munch-2.5.0-py2.py3-none-any.whl\n",
            "Requirement already satisfied: attrs>=17 in /usr/local/lib/python3.7/dist-packages (from fiona->geopandas) (20.3.0)\n",
            "Requirement already satisfied: pytz>=2017.2 in /usr/local/lib/python3.7/dist-packages (from pandas>=0.23.0->geopandas) (2018.9)\n",
            "Requirement already satisfied: python-dateutil>=2.7.3 in /usr/local/lib/python3.7/dist-packages (from pandas>=0.23.0->geopandas) (2.8.1)\n",
            "Requirement already satisfied: numpy>=1.15.4 in /usr/local/lib/python3.7/dist-packages (from pandas>=0.23.0->geopandas) (1.19.5)\n",
            "Installing collected packages: click-plugins, cligj, munch, fiona, pyproj, geopandas\n",
            "Successfully installed click-plugins-1.1.1 cligj-0.7.1 fiona-1.8.18 geopandas-0.8.2 munch-2.5.0 pyproj-3.0.0.post1\n",
            "Collecting pycountry\n",
            "\u001b[?25l  Downloading https://files.pythonhosted.org/packages/76/73/6f1a412f14f68c273feea29a6ea9b9f1e268177d32e0e69ad6790d306312/pycountry-20.7.3.tar.gz (10.1MB)\n",
            "\u001b[K     |████████████████████████████████| 10.1MB 4.3MB/s \n",
            "\u001b[?25hBuilding wheels for collected packages: pycountry\n",
            "  Building wheel for pycountry (setup.py) ... \u001b[?25l\u001b[?25hdone\n",
            "  Created wheel for pycountry: filename=pycountry-20.7.3-py2.py3-none-any.whl size=10746863 sha256=526a14d4a6c9310b8fae762ba9c1bc434bcf2c42cd9835679f810ea680fa5836\n",
            "  Stored in directory: /root/.cache/pip/wheels/33/4e/a6/be297e6b83567e537bed9df4a93f8590ec01c1acfbcd405348\n",
            "Successfully built pycountry\n",
            "Installing collected packages: pycountry\n",
            "Successfully installed pycountry-20.7.3\n",
            "Collecting contextily\n",
            "  Downloading https://files.pythonhosted.org/packages/d3/8a/f7916ad000c30b86793a0c7a63946baa413f40f33edb5b10f78a1b150d24/contextily-1.1.0-py3-none-any.whl\n",
            "Requirement already satisfied: requests in /usr/local/lib/python3.7/dist-packages (from contextily) (2.23.0)\n",
            "Collecting mercantile\n",
            "  Downloading https://files.pythonhosted.org/packages/b9/cd/ee6dbee0abca93edda53703fe408d2a6abdc8c1b248a3c9a4539089eafa2/mercantile-1.1.6-py3-none-any.whl\n",
            "Requirement already satisfied: joblib in /usr/local/lib/python3.7/dist-packages (from contextily) (1.0.1)\n",
            "Requirement already satisfied: geopy in /usr/local/lib/python3.7/dist-packages (from contextily) (1.17.0)\n",
            "Requirement already satisfied: matplotlib in /usr/local/lib/python3.7/dist-packages (from contextily) (3.2.2)\n",
            "Requirement already satisfied: pillow in /usr/local/lib/python3.7/dist-packages (from contextily) (7.0.0)\n",
            "Collecting rasterio\n",
            "\u001b[?25l  Downloading https://files.pythonhosted.org/packages/cb/ed/aa7cc593dbcb974f80ca0a15967d44abc820dbeb063e01478c95adcca156/rasterio-1.2.0-cp37-cp37m-manylinux1_x86_64.whl (19.1MB)\n",
            "\u001b[K     |████████████████████████████████| 19.1MB 1.2MB/s \n",
            "\u001b[?25hRequirement already satisfied: chardet<4,>=3.0.2 in /usr/local/lib/python3.7/dist-packages (from requests->contextily) (3.0.4)\n",
            "Requirement already satisfied: urllib3!=1.25.0,!=1.25.1,<1.26,>=1.21.1 in /usr/local/lib/python3.7/dist-packages (from requests->contextily) (1.24.3)\n",
            "Requirement already satisfied: idna<3,>=2.5 in /usr/local/lib/python3.7/dist-packages (from requests->contextily) (2.10)\n",
            "Requirement already satisfied: certifi>=2017.4.17 in /usr/local/lib/python3.7/dist-packages (from requests->contextily) (2020.12.5)\n",
            "Requirement already satisfied: click>=3.0 in /usr/local/lib/python3.7/dist-packages (from mercantile->contextily) (7.1.2)\n",
            "Requirement already satisfied: geographiclib<2,>=1.49 in /usr/local/lib/python3.7/dist-packages (from geopy->contextily) (1.50)\n",
            "Requirement already satisfied: numpy>=1.11 in /usr/local/lib/python3.7/dist-packages (from matplotlib->contextily) (1.19.5)\n",
            "Requirement already satisfied: kiwisolver>=1.0.1 in /usr/local/lib/python3.7/dist-packages (from matplotlib->contextily) (1.3.1)\n",
            "Requirement already satisfied: pyparsing!=2.0.4,!=2.1.2,!=2.1.6,>=2.0.1 in /usr/local/lib/python3.7/dist-packages (from matplotlib->contextily) (2.4.7)\n",
            "Requirement already satisfied: cycler>=0.10 in /usr/local/lib/python3.7/dist-packages (from matplotlib->contextily) (0.10.0)\n",
            "Requirement already satisfied: python-dateutil>=2.1 in /usr/local/lib/python3.7/dist-packages (from matplotlib->contextily) (2.8.1)\n",
            "Requirement already satisfied: attrs in /usr/local/lib/python3.7/dist-packages (from rasterio->contextily) (20.3.0)\n",
            "Collecting snuggs>=1.4.1\n",
            "  Downloading https://files.pythonhosted.org/packages/cc/0e/d27d6e806d6c0d1a2cfdc5d1f088e42339a0a54a09c3343f7f81ec8947ea/snuggs-1.4.7-py3-none-any.whl\n",
            "Requirement already satisfied: click-plugins in /usr/local/lib/python3.7/dist-packages (from rasterio->contextily) (1.1.1)\n",
            "Requirement already satisfied: cligj>=0.5 in /usr/local/lib/python3.7/dist-packages (from rasterio->contextily) (0.7.1)\n",
            "Collecting affine\n",
            "  Downloading https://files.pythonhosted.org/packages/ac/a6/1a39a1ede71210e3ddaf623982b06ecfc5c5c03741ae659073159184cd3e/affine-2.3.0-py2.py3-none-any.whl\n",
            "Requirement already satisfied: six in /usr/local/lib/python3.7/dist-packages (from cycler>=0.10->matplotlib->contextily) (1.15.0)\n",
            "Installing collected packages: mercantile, snuggs, affine, rasterio, contextily\n",
            "Successfully installed affine-2.3.0 contextily-1.1.0 mercantile-1.1.6 rasterio-1.2.0 snuggs-1.4.7\n"
          ],
          "name": "stdout"
        }
      ]
    },
    {
      "cell_type": "markdown",
      "metadata": {
        "id": "UnYRlWaXni1l"
      },
      "source": [
        ""
      ]
    },
    {
      "cell_type": "code",
      "metadata": {
        "id": "fqE7AYMLnkSe",
        "colab": {
          "base_uri": "https://localhost:8080/"
        },
        "outputId": "d794f4de-710c-4800-ba60-c34a49eb1ca9"
      },
      "source": [
        "boros = geopandas.read_file(geopandas.datasets.get_path(\"nybb\"))\r\n",
        "print(boros)\r\n"
      ],
      "execution_count": 3,
      "outputs": [
        {
          "output_type": "stream",
          "text": [
            "   BoroCode  ...                                           geometry\n",
            "0         5  ...  MULTIPOLYGON (((970217.022 145643.332, 970227....\n",
            "1         4  ...  MULTIPOLYGON (((1029606.077 156073.814, 102957...\n",
            "2         3  ...  MULTIPOLYGON (((1021176.479 151374.797, 102100...\n",
            "3         1  ...  MULTIPOLYGON (((981219.056 188655.316, 980940....\n",
            "4         2  ...  MULTIPOLYGON (((1012821.806 229228.265, 101278...\n",
            "\n",
            "[5 rows x 5 columns]\n"
          ],
          "name": "stdout"
        }
      ]
    },
    {
      "cell_type": "code",
      "metadata": {
        "id": "6X5OMUsFMvsQ"
      },
      "source": [
        ""
      ],
      "execution_count": 3,
      "outputs": []
    },
    {
      "cell_type": "code",
      "metadata": {
        "colab": {
          "base_uri": "https://localhost:8080/",
          "height": 361
        },
        "id": "A2jSxxNLnkVo",
        "outputId": "6a2de3cc-6089-4ac3-db78-244a6ac35373"
      },
      "source": [
        "boros.BoroName\r\n",
        "\r\n",
        "# boro_locations = geopandas.tools.geocode(boros.BoroName)\r\n",
        "\r\n",
        "# boro_locations\r\n",
        "\r\n",
        "img = plt.pyplot.imread(\"nyc_map.png\")\r\n",
        "fig, ax = plt.pyplot.subplots(figsize=(15,15))\r\n",
        "ax.imshow(img)\r\n",
        "# boros = boros.to_crs(epsg=3857)\r\n",
        "# base = boros.plot(ax=ax, alpha=0.5, edgecolor='k');\r\n",
        "\r\n",
        "\r\n",
        "# base = boros.to_crs(\"EPSG:4326\").plot(ax=ax, color=\"white\",   edgecolor='k');\r\n",
        "# ctx.add_basemap(ax, zoom=0)\r\n",
        "\r\n",
        "# n = ['Brooklyn Bridge', 'Manhattan Bridge', 'Williamsburg Bridge', 'Queensboro Bridge']\r\n",
        "# x = [-74.0,     -73.985,    -73.97,  -73.96]\r\n",
        "# y = [40.705,     40.71,     40.72,    40.75]\r\n",
        "# s = [150,        100,       100,      100]\r\n",
        "\r\n",
        "bb = ax.scatter(500,    550, color='red',     marker='>', s=200, label='Brooklyn Bridge')\r\n",
        "mb = ax.scatter(515,    535, color='yellow',   marker='<', s=200, label='Manhattan Bridge')\r\n",
        "wb = ax.scatter(555,    512, color='magenta',  marker='v', s=200, label='Williamsburg Bridge')\r\n",
        "qb = ax.scatter(580,    410, color='blue',    marker='v', s=200, label='Queensboro Bridge')\r\n",
        "\r\n",
        "# base.scatter(x,y, s=s, color=['red','green','yellow','blue'])\r\n",
        "ax.legend()\r\n",
        "ax.grid(True)\r\n",
        "\r\n",
        "# for i, txt in enumerate(n):\r\n",
        "#     ax.annotate(txt, (x[i], y[i]))\r\n",
        "# boro_locations.plot(ax=ax, color=\"red\");"
      ],
      "execution_count": 4,
      "outputs": [
        {
          "output_type": "error",
          "ename": "FileNotFoundError",
          "evalue": "ignored",
          "traceback": [
            "\u001b[0;31m---------------------------------------------------------------------------\u001b[0m",
            "\u001b[0;31mFileNotFoundError\u001b[0m                         Traceback (most recent call last)",
            "\u001b[0;32m<ipython-input-4-57c983417de9>\u001b[0m in \u001b[0;36m<module>\u001b[0;34m()\u001b[0m\n\u001b[1;32m      5\u001b[0m \u001b[0;31m# boro_locations\u001b[0m\u001b[0;34m\u001b[0m\u001b[0;34m\u001b[0m\u001b[0;34m\u001b[0m\u001b[0m\n\u001b[1;32m      6\u001b[0m \u001b[0;34m\u001b[0m\u001b[0m\n\u001b[0;32m----> 7\u001b[0;31m \u001b[0mimg\u001b[0m \u001b[0;34m=\u001b[0m \u001b[0mplt\u001b[0m\u001b[0;34m.\u001b[0m\u001b[0mpyplot\u001b[0m\u001b[0;34m.\u001b[0m\u001b[0mimread\u001b[0m\u001b[0;34m(\u001b[0m\u001b[0;34m\"nyc_map.png\"\u001b[0m\u001b[0;34m)\u001b[0m\u001b[0;34m\u001b[0m\u001b[0;34m\u001b[0m\u001b[0m\n\u001b[0m\u001b[1;32m      8\u001b[0m \u001b[0mfig\u001b[0m\u001b[0;34m,\u001b[0m \u001b[0max\u001b[0m \u001b[0;34m=\u001b[0m \u001b[0mplt\u001b[0m\u001b[0;34m.\u001b[0m\u001b[0mpyplot\u001b[0m\u001b[0;34m.\u001b[0m\u001b[0msubplots\u001b[0m\u001b[0;34m(\u001b[0m\u001b[0mfigsize\u001b[0m\u001b[0;34m=\u001b[0m\u001b[0;34m(\u001b[0m\u001b[0;36m15\u001b[0m\u001b[0;34m,\u001b[0m\u001b[0;36m15\u001b[0m\u001b[0;34m)\u001b[0m\u001b[0;34m)\u001b[0m\u001b[0;34m\u001b[0m\u001b[0;34m\u001b[0m\u001b[0m\n\u001b[1;32m      9\u001b[0m \u001b[0max\u001b[0m\u001b[0;34m.\u001b[0m\u001b[0mimshow\u001b[0m\u001b[0;34m(\u001b[0m\u001b[0mimg\u001b[0m\u001b[0;34m)\u001b[0m\u001b[0;34m\u001b[0m\u001b[0;34m\u001b[0m\u001b[0m\n",
            "\u001b[0;32m/usr/local/lib/python3.7/dist-packages/matplotlib/pyplot.py\u001b[0m in \u001b[0;36mimread\u001b[0;34m(fname, format)\u001b[0m\n\u001b[1;32m   2059\u001b[0m \u001b[0;34m@\u001b[0m\u001b[0mdocstring\u001b[0m\u001b[0;34m.\u001b[0m\u001b[0mcopy\u001b[0m\u001b[0;34m(\u001b[0m\u001b[0mmatplotlib\u001b[0m\u001b[0;34m.\u001b[0m\u001b[0mimage\u001b[0m\u001b[0;34m.\u001b[0m\u001b[0mimread\u001b[0m\u001b[0;34m)\u001b[0m\u001b[0;34m\u001b[0m\u001b[0;34m\u001b[0m\u001b[0m\n\u001b[1;32m   2060\u001b[0m \u001b[0;32mdef\u001b[0m \u001b[0mimread\u001b[0m\u001b[0;34m(\u001b[0m\u001b[0mfname\u001b[0m\u001b[0;34m,\u001b[0m \u001b[0mformat\u001b[0m\u001b[0;34m=\u001b[0m\u001b[0;32mNone\u001b[0m\u001b[0;34m)\u001b[0m\u001b[0;34m:\u001b[0m\u001b[0;34m\u001b[0m\u001b[0;34m\u001b[0m\u001b[0m\n\u001b[0;32m-> 2061\u001b[0;31m     \u001b[0;32mreturn\u001b[0m \u001b[0mmatplotlib\u001b[0m\u001b[0;34m.\u001b[0m\u001b[0mimage\u001b[0m\u001b[0;34m.\u001b[0m\u001b[0mimread\u001b[0m\u001b[0;34m(\u001b[0m\u001b[0mfname\u001b[0m\u001b[0;34m,\u001b[0m \u001b[0mformat\u001b[0m\u001b[0;34m)\u001b[0m\u001b[0;34m\u001b[0m\u001b[0;34m\u001b[0m\u001b[0m\n\u001b[0m\u001b[1;32m   2062\u001b[0m \u001b[0;34m\u001b[0m\u001b[0m\n\u001b[1;32m   2063\u001b[0m \u001b[0;34m\u001b[0m\u001b[0m\n",
            "\u001b[0;32m/usr/local/lib/python3.7/dist-packages/matplotlib/image.py\u001b[0m in \u001b[0;36mimread\u001b[0;34m(fname, format)\u001b[0m\n\u001b[1;32m   1472\u001b[0m             \u001b[0mfd\u001b[0m \u001b[0;34m=\u001b[0m \u001b[0mBytesIO\u001b[0m\u001b[0;34m(\u001b[0m\u001b[0mrequest\u001b[0m\u001b[0;34m.\u001b[0m\u001b[0murlopen\u001b[0m\u001b[0;34m(\u001b[0m\u001b[0mfname\u001b[0m\u001b[0;34m)\u001b[0m\u001b[0;34m.\u001b[0m\u001b[0mread\u001b[0m\u001b[0;34m(\u001b[0m\u001b[0;34m)\u001b[0m\u001b[0;34m)\u001b[0m\u001b[0;34m\u001b[0m\u001b[0;34m\u001b[0m\u001b[0m\n\u001b[1;32m   1473\u001b[0m             \u001b[0;32mreturn\u001b[0m \u001b[0m_png\u001b[0m\u001b[0;34m.\u001b[0m\u001b[0mread_png\u001b[0m\u001b[0;34m(\u001b[0m\u001b[0mfd\u001b[0m\u001b[0;34m)\u001b[0m\u001b[0;34m\u001b[0m\u001b[0;34m\u001b[0m\u001b[0m\n\u001b[0;32m-> 1474\u001b[0;31m     \u001b[0;32mwith\u001b[0m \u001b[0mcbook\u001b[0m\u001b[0;34m.\u001b[0m\u001b[0mopen_file_cm\u001b[0m\u001b[0;34m(\u001b[0m\u001b[0mfname\u001b[0m\u001b[0;34m,\u001b[0m \u001b[0;34m\"rb\"\u001b[0m\u001b[0;34m)\u001b[0m \u001b[0;32mas\u001b[0m \u001b[0mfile\u001b[0m\u001b[0;34m:\u001b[0m\u001b[0;34m\u001b[0m\u001b[0;34m\u001b[0m\u001b[0m\n\u001b[0m\u001b[1;32m   1475\u001b[0m         \u001b[0;32mreturn\u001b[0m \u001b[0m_png\u001b[0m\u001b[0;34m.\u001b[0m\u001b[0mread_png\u001b[0m\u001b[0;34m(\u001b[0m\u001b[0mfile\u001b[0m\u001b[0;34m)\u001b[0m\u001b[0;34m\u001b[0m\u001b[0;34m\u001b[0m\u001b[0m\n\u001b[1;32m   1476\u001b[0m \u001b[0;34m\u001b[0m\u001b[0m\n",
            "\u001b[0;32m/usr/lib/python3.7/contextlib.py\u001b[0m in \u001b[0;36m__enter__\u001b[0;34m(self)\u001b[0m\n\u001b[1;32m    110\u001b[0m         \u001b[0;32mdel\u001b[0m \u001b[0mself\u001b[0m\u001b[0;34m.\u001b[0m\u001b[0margs\u001b[0m\u001b[0;34m,\u001b[0m \u001b[0mself\u001b[0m\u001b[0;34m.\u001b[0m\u001b[0mkwds\u001b[0m\u001b[0;34m,\u001b[0m \u001b[0mself\u001b[0m\u001b[0;34m.\u001b[0m\u001b[0mfunc\u001b[0m\u001b[0;34m\u001b[0m\u001b[0;34m\u001b[0m\u001b[0m\n\u001b[1;32m    111\u001b[0m         \u001b[0;32mtry\u001b[0m\u001b[0;34m:\u001b[0m\u001b[0;34m\u001b[0m\u001b[0;34m\u001b[0m\u001b[0m\n\u001b[0;32m--> 112\u001b[0;31m             \u001b[0;32mreturn\u001b[0m \u001b[0mnext\u001b[0m\u001b[0;34m(\u001b[0m\u001b[0mself\u001b[0m\u001b[0;34m.\u001b[0m\u001b[0mgen\u001b[0m\u001b[0;34m)\u001b[0m\u001b[0;34m\u001b[0m\u001b[0;34m\u001b[0m\u001b[0m\n\u001b[0m\u001b[1;32m    113\u001b[0m         \u001b[0;32mexcept\u001b[0m \u001b[0mStopIteration\u001b[0m\u001b[0;34m:\u001b[0m\u001b[0;34m\u001b[0m\u001b[0;34m\u001b[0m\u001b[0m\n\u001b[1;32m    114\u001b[0m             \u001b[0;32mraise\u001b[0m \u001b[0mRuntimeError\u001b[0m\u001b[0;34m(\u001b[0m\u001b[0;34m\"generator didn't yield\"\u001b[0m\u001b[0;34m)\u001b[0m \u001b[0;32mfrom\u001b[0m \u001b[0;32mNone\u001b[0m\u001b[0;34m\u001b[0m\u001b[0;34m\u001b[0m\u001b[0m\n",
            "\u001b[0;32m/usr/local/lib/python3.7/dist-packages/matplotlib/cbook/__init__.py\u001b[0m in \u001b[0;36mopen_file_cm\u001b[0;34m(path_or_file, mode, encoding)\u001b[0m\n\u001b[1;32m    416\u001b[0m \u001b[0;32mdef\u001b[0m \u001b[0mopen_file_cm\u001b[0m\u001b[0;34m(\u001b[0m\u001b[0mpath_or_file\u001b[0m\u001b[0;34m,\u001b[0m \u001b[0mmode\u001b[0m\u001b[0;34m=\u001b[0m\u001b[0;34m\"r\"\u001b[0m\u001b[0;34m,\u001b[0m \u001b[0mencoding\u001b[0m\u001b[0;34m=\u001b[0m\u001b[0;32mNone\u001b[0m\u001b[0;34m)\u001b[0m\u001b[0;34m:\u001b[0m\u001b[0;34m\u001b[0m\u001b[0;34m\u001b[0m\u001b[0m\n\u001b[1;32m    417\u001b[0m     \u001b[0;34mr\"\"\"Pass through file objects and context-manage `.PathLike`\\s.\"\"\"\u001b[0m\u001b[0;34m\u001b[0m\u001b[0;34m\u001b[0m\u001b[0m\n\u001b[0;32m--> 418\u001b[0;31m     \u001b[0mfh\u001b[0m\u001b[0;34m,\u001b[0m \u001b[0mopened\u001b[0m \u001b[0;34m=\u001b[0m \u001b[0mto_filehandle\u001b[0m\u001b[0;34m(\u001b[0m\u001b[0mpath_or_file\u001b[0m\u001b[0;34m,\u001b[0m \u001b[0mmode\u001b[0m\u001b[0;34m,\u001b[0m \u001b[0;32mTrue\u001b[0m\u001b[0;34m,\u001b[0m \u001b[0mencoding\u001b[0m\u001b[0;34m)\u001b[0m\u001b[0;34m\u001b[0m\u001b[0;34m\u001b[0m\u001b[0m\n\u001b[0m\u001b[1;32m    419\u001b[0m     \u001b[0;32mif\u001b[0m \u001b[0mopened\u001b[0m\u001b[0;34m:\u001b[0m\u001b[0;34m\u001b[0m\u001b[0;34m\u001b[0m\u001b[0m\n\u001b[1;32m    420\u001b[0m         \u001b[0;32mwith\u001b[0m \u001b[0mfh\u001b[0m\u001b[0;34m:\u001b[0m\u001b[0;34m\u001b[0m\u001b[0;34m\u001b[0m\u001b[0m\n",
            "\u001b[0;32m/usr/local/lib/python3.7/dist-packages/matplotlib/cbook/__init__.py\u001b[0m in \u001b[0;36mto_filehandle\u001b[0;34m(fname, flag, return_opened, encoding)\u001b[0m\n\u001b[1;32m    401\u001b[0m             \u001b[0mfh\u001b[0m \u001b[0;34m=\u001b[0m \u001b[0mbz2\u001b[0m\u001b[0;34m.\u001b[0m\u001b[0mBZ2File\u001b[0m\u001b[0;34m(\u001b[0m\u001b[0mfname\u001b[0m\u001b[0;34m,\u001b[0m \u001b[0mflag\u001b[0m\u001b[0;34m)\u001b[0m\u001b[0;34m\u001b[0m\u001b[0;34m\u001b[0m\u001b[0m\n\u001b[1;32m    402\u001b[0m         \u001b[0;32melse\u001b[0m\u001b[0;34m:\u001b[0m\u001b[0;34m\u001b[0m\u001b[0;34m\u001b[0m\u001b[0m\n\u001b[0;32m--> 403\u001b[0;31m             \u001b[0mfh\u001b[0m \u001b[0;34m=\u001b[0m \u001b[0mopen\u001b[0m\u001b[0;34m(\u001b[0m\u001b[0mfname\u001b[0m\u001b[0;34m,\u001b[0m \u001b[0mflag\u001b[0m\u001b[0;34m,\u001b[0m \u001b[0mencoding\u001b[0m\u001b[0;34m=\u001b[0m\u001b[0mencoding\u001b[0m\u001b[0;34m)\u001b[0m\u001b[0;34m\u001b[0m\u001b[0;34m\u001b[0m\u001b[0m\n\u001b[0m\u001b[1;32m    404\u001b[0m         \u001b[0mopened\u001b[0m \u001b[0;34m=\u001b[0m \u001b[0;32mTrue\u001b[0m\u001b[0;34m\u001b[0m\u001b[0;34m\u001b[0m\u001b[0m\n\u001b[1;32m    405\u001b[0m     \u001b[0;32melif\u001b[0m \u001b[0mhasattr\u001b[0m\u001b[0;34m(\u001b[0m\u001b[0mfname\u001b[0m\u001b[0;34m,\u001b[0m \u001b[0;34m'seek'\u001b[0m\u001b[0;34m)\u001b[0m\u001b[0;34m:\u001b[0m\u001b[0;34m\u001b[0m\u001b[0;34m\u001b[0m\u001b[0m\n",
            "\u001b[0;31mFileNotFoundError\u001b[0m: [Errno 2] No such file or directory: 'nyc_map.png'"
          ]
        }
      ]
    },
    {
      "cell_type": "code",
      "metadata": {
        "id": "hREKRv8ZDfjs"
      },
      "source": [
        ""
      ],
      "execution_count": null,
      "outputs": []
    },
    {
      "cell_type": "code",
      "metadata": {
        "id": "NWgP-HPmDfrq"
      },
      "source": [
        ""
      ],
      "execution_count": null,
      "outputs": []
    },
    {
      "cell_type": "code",
      "metadata": {
        "id": "QEIdd1ZTnkYs"
      },
      "source": [
        "# streets = geopandas.read_file('SimplifiedStreets_shp')"
      ],
      "execution_count": null,
      "outputs": []
    },
    {
      "cell_type": "code",
      "metadata": {
        "id": "8CMt1KBnnkb7"
      },
      "source": [
        "boros.BoroName\r\n",
        "\r\n",
        "# boro_locations = geopandas.tools.geocode(boros.BoroName)\r\n",
        "\r\n",
        "# boro_locations\r\n",
        "fig, ax = plt.pyplot.subplots(figsize=(20,20))\r\n",
        "\r\n",
        "boros = boros.to_crs(epsg=3857)\r\n",
        "base = boros.plot(ax=ax, alpha=0.5, edgecolor='k');\r\n",
        "\r\n",
        "\r\n",
        "# base = boros.to_crs(\"EPSG:4326\").plot(ax=ax, color=\"white\",   edgecolor='k');\r\n",
        "ctx.add_basemap(ax)\r\n",
        "\r\n",
        "# n = ['Brooklyn Bridge', 'Manhattan Bridge', 'Williamsburg Bridge', 'Queensboro Bridge']\r\n",
        "# x = [-74.0,     -73.985,    -73.97,  -73.96]\r\n",
        "# y = [40.705,     40.71,     40.72,    40.75]\r\n",
        "# s = [150,        100,       100,      100]\r\n",
        "\r\n",
        "# bb = base.scatter(-74.0,    40.705, color='red',    s=150, label='Brooklyn Bridge')\r\n",
        "# mb = base.scatter(-73.985,  40.71, color='green',   s=150, label='Manhattan Bridge')\r\n",
        "# wb = base.scatter(-73.97,   40.72, color='yellow',  s=150, label='Williamsburg Bridge')\r\n",
        "# qb = base.scatter(-73.96,   40.75, color='blue',    s=150, label='Queensboro Bridge')\r\n",
        "\r\n",
        "\r\n",
        "\r\n",
        "# base.scatter(x,y, s=s, color=['red','green','yellow','blue'])\r\n",
        "# ax.legend()\r\n",
        "# ax.grid(True)\r\n",
        "\r\n",
        "# for i, txt in enumerate(n):\r\n",
        "#     ax.annotate(txt, (x[i], y[i]))\r\n",
        "# boro_locations.plot(ax=ax, color=\"red\");"
      ],
      "execution_count": null,
      "outputs": []
    },
    {
      "cell_type": "code",
      "metadata": {
        "id": "niCLzSP_pDGi"
      },
      "source": [
        "df = pd.read_csv('nyc-bicycle-counts.csv')\r\n",
        "df.head()\r\n"
      ],
      "execution_count": null,
      "outputs": []
    },
    {
      "cell_type": "code",
      "metadata": {
        "id": "FPyBVZWc001h"
      },
      "source": [
        "df.shape"
      ],
      "execution_count": null,
      "outputs": []
    },
    {
      "cell_type": "code",
      "metadata": {
        "id": "NZ4DHVrZpDXa"
      },
      "source": [
        "df['High Temp (°F)'].corr(df['Total'])"
      ],
      "execution_count": null,
      "outputs": []
    },
    {
      "cell_type": "code",
      "metadata": {
        "id": "vhH8_LeHs0gH"
      },
      "source": [
        "a_dims = (12, 8)\r\n",
        "fig, ax = pyplot.subplots(figsize=a_dims)\r\n",
        "ax = plt.pyplot.gca()\r\n",
        "ax.set_title(\"Correlation Total and High Temp (°F): \" +str( round(df['High Temp (°F)'].corr(df['Total']) ,3)) )\r\n",
        "sns.regplot(data=df, x=\"High Temp (°F)\", y=\"Total\", marker=\"+\", color=\"red\")\r\n",
        "ax.set_ylabel(\"Total\")"
      ],
      "execution_count": null,
      "outputs": []
    },
    {
      "cell_type": "code",
      "metadata": {
        "id": "yY19eAkeqEXK"
      },
      "source": [
        "df['Low Temp (°F)'].corr(df['Total'])\r\n",
        "a_dims = (12, 8)\r\n",
        "fig, ax = pyplot.subplots(figsize=a_dims)\r\n",
        "ax = plt.pyplot.gca()\r\n",
        "ax.set_title(\"Correlation Total and Low Temp (°F): \" +str( round(df['Low Temp (°F)'].corr(df['Total']) ,3)) )\r\n",
        "sns.regplot(data=df, x=\"Low Temp (°F)\", y=\"Total\", marker=\"+\", color=\"blue\")\r\n",
        "ax.set_ylabel(\"Total\")"
      ],
      "execution_count": null,
      "outputs": []
    },
    {
      "cell_type": "code",
      "metadata": {
        "id": "ugmEgTyruqyr"
      },
      "source": [
        "df['Precipitation'] = df['Precipitation'].astype(float)\r\n",
        "df['Precipitation'].corr(df['Total'])\r\n",
        "a_dims = (12, 8)\r\n",
        "fig, ax = pyplot.subplots(figsize=a_dims)\r\n",
        "ax = plt.pyplot.gca()\r\n",
        "ax.set_title(\"Correlation Total and Precipitation: \" +str( round(df['Precipitation'].corr(df['Total']) ,3)) )\r\n",
        "sns.regplot(data=df, x=\"Precipitation)\", y=\"Total\", marker=\"+\", color=\"purple\")\r\n",
        "ax.set_ylabel(\"Total\")"
      ],
      "execution_count": null,
      "outputs": []
    },
    {
      "cell_type": "code",
      "metadata": {
        "id": "HDJczDOUDhvV"
      },
      "source": [
        "df = pd.read_csv('nyc-bicycle-counts.csv')\r\n"
      ],
      "execution_count": 14,
      "outputs": []
    },
    {
      "cell_type": "code",
      "metadata": {
        "colab": {
          "base_uri": "https://localhost:8080/",
          "height": 191
        },
        "id": "QAGUPx3-E6ZY",
        "outputId": "61056557-5034-41b1-f116-cc12cbafea1a"
      },
      "source": [
        "df['bridgeName'] = df[['Brooklyn Bridge',\t'Manhattan Bridge',\t'Williamsburg Bridge',\t'Queensboro Bridge']].idxmax(axis=1)\r\n",
        "df.head()\r\n"
      ],
      "execution_count": 15,
      "outputs": [
        {
          "output_type": "execute_result",
          "data": {
            "text/html": [
              "<div>\n",
              "<style scoped>\n",
              "    .dataframe tbody tr th:only-of-type {\n",
              "        vertical-align: middle;\n",
              "    }\n",
              "\n",
              "    .dataframe tbody tr th {\n",
              "        vertical-align: top;\n",
              "    }\n",
              "\n",
              "    .dataframe thead th {\n",
              "        text-align: right;\n",
              "    }\n",
              "</style>\n",
              "<table border=\"1\" class=\"dataframe\">\n",
              "  <thead>\n",
              "    <tr style=\"text-align: right;\">\n",
              "      <th></th>\n",
              "      <th>Index</th>\n",
              "      <th>Date</th>\n",
              "      <th>Day</th>\n",
              "      <th>High Temp (°F)</th>\n",
              "      <th>Low Temp (°F)</th>\n",
              "      <th>Precipitation</th>\n",
              "      <th>Brooklyn Bridge</th>\n",
              "      <th>Manhattan Bridge</th>\n",
              "      <th>Williamsburg Bridge</th>\n",
              "      <th>Queensboro Bridge</th>\n",
              "      <th>Total</th>\n",
              "      <th>bridgeName</th>\n",
              "    </tr>\n",
              "  </thead>\n",
              "  <tbody>\n",
              "    <tr>\n",
              "      <th>0</th>\n",
              "      <td>4</td>\n",
              "      <td>4/5/2016 0:00</td>\n",
              "      <td>4/5/2016 0:00</td>\n",
              "      <td>42.1</td>\n",
              "      <td>26.1</td>\n",
              "      <td>0.0</td>\n",
              "      <td>1416</td>\n",
              "      <td>2617</td>\n",
              "      <td>3081</td>\n",
              "      <td>2357</td>\n",
              "      <td>9471</td>\n",
              "      <td>Williamsburg Bridge</td>\n",
              "    </tr>\n",
              "    <tr>\n",
              "      <th>1</th>\n",
              "      <td>5</td>\n",
              "      <td>4/6/2016 0:00</td>\n",
              "      <td>4/6/2016 0:00</td>\n",
              "      <td>45.0</td>\n",
              "      <td>30.0</td>\n",
              "      <td>0.0</td>\n",
              "      <td>1885</td>\n",
              "      <td>3329</td>\n",
              "      <td>3856</td>\n",
              "      <td>2849</td>\n",
              "      <td>11919</td>\n",
              "      <td>Williamsburg Bridge</td>\n",
              "    </tr>\n",
              "    <tr>\n",
              "      <th>2</th>\n",
              "      <td>9</td>\n",
              "      <td>4/10/2016 0:00</td>\n",
              "      <td>4/10/2016 0:00</td>\n",
              "      <td>48.9</td>\n",
              "      <td>30.9</td>\n",
              "      <td>0.0</td>\n",
              "      <td>1447</td>\n",
              "      <td>2387</td>\n",
              "      <td>3132</td>\n",
              "      <td>2160</td>\n",
              "      <td>9126</td>\n",
              "      <td>Williamsburg Bridge</td>\n",
              "    </tr>\n",
              "    <tr>\n",
              "      <th>3</th>\n",
              "      <td>12</td>\n",
              "      <td>4/13/2016 0:00</td>\n",
              "      <td>4/13/2016 0:00</td>\n",
              "      <td>57.0</td>\n",
              "      <td>39.9</td>\n",
              "      <td>0.0</td>\n",
              "      <td>2840</td>\n",
              "      <td>5395</td>\n",
              "      <td>5995</td>\n",
              "      <td>4192</td>\n",
              "      <td>18422</td>\n",
              "      <td>Williamsburg Bridge</td>\n",
              "    </tr>\n",
              "    <tr>\n",
              "      <th>4</th>\n",
              "      <td>13</td>\n",
              "      <td>4/14/2016 0:00</td>\n",
              "      <td>4/14/2016 0:00</td>\n",
              "      <td>62.1</td>\n",
              "      <td>44.6</td>\n",
              "      <td>0.0</td>\n",
              "      <td>2861</td>\n",
              "      <td>5309</td>\n",
              "      <td>6030</td>\n",
              "      <td>4115</td>\n",
              "      <td>18315</td>\n",
              "      <td>Williamsburg Bridge</td>\n",
              "    </tr>\n",
              "  </tbody>\n",
              "</table>\n",
              "</div>"
            ],
            "text/plain": [
              "   Index            Date  ...  Total           bridgeName\n",
              "0      4   4/5/2016 0:00  ...   9471  Williamsburg Bridge\n",
              "1      5   4/6/2016 0:00  ...  11919  Williamsburg Bridge\n",
              "2      9  4/10/2016 0:00  ...   9126  Williamsburg Bridge\n",
              "3     12  4/13/2016 0:00  ...  18422  Williamsburg Bridge\n",
              "4     13  4/14/2016 0:00  ...  18315  Williamsburg Bridge\n",
              "\n",
              "[5 rows x 12 columns]"
            ]
          },
          "metadata": {
            "tags": []
          },
          "execution_count": 15
        }
      ]
    },
    {
      "cell_type": "code",
      "metadata": {
        "id": "J3uofgXnDhyu",
        "colab": {
          "base_uri": "https://localhost:8080/"
        },
        "outputId": "2a46a672-e0f0-4e4b-b617-b34f0dd15f17"
      },
      "source": [
        "from sklearn.tree import DecisionTreeClassifier \r\n",
        "from sklearn.model_selection import train_test_split \r\n",
        "from sklearn import metrics \r\n",
        "\r\n",
        "\r\n",
        "# Split dataset into training set and test set\r\n",
        "X_train, X_test, y_train, y_test = train_test_split(df[['High Temp (°F)','Low Temp (°F)',\t'Precipitation']], df['bridgeName'], test_size=0.3, random_state=1) # 70% training and 30% test\r\n",
        "\r\n",
        "# Create Decision Tree classifer object\r\n",
        "clf = DecisionTreeClassifier()\r\n",
        "\r\n",
        "# Train Decision Tree Classifer\r\n",
        "clf = clf.fit(X_train,y_train)\r\n",
        "\r\n",
        "#Predict the response for test dataset\r\n",
        "y_pred = clf.predict(X_test)\r\n",
        "\r\n",
        "print(\"Accuracy:\",metrics.accuracy_score(y_test, y_pred))"
      ],
      "execution_count": 17,
      "outputs": [
        {
          "output_type": "stream",
          "text": [
            "Accuracy: 1.0\n"
          ],
          "name": "stdout"
        }
      ]
    },
    {
      "cell_type": "code",
      "metadata": {
        "id": "22VehJSjDh2I"
      },
      "source": [
        ""
      ],
      "execution_count": null,
      "outputs": []
    }
  ]
}